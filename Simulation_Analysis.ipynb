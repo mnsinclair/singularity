{
 "cells": [
  {
   "cell_type": "code",
   "execution_count": 2,
   "id": "ffc145fb",
   "metadata": {},
   "outputs": [
    {
     "name": "stdout",
     "output_type": "stream",
     "text": [
      "['7.4', '0.7', '0', '1.9', '0.076', '11', '34', '0.9978', '3.51', '0.56', '9.4', '5'], ['7.8', '0.88', '0', '2.6', '0.098', '25', '67', '0.9968', '3.2', '0.68', '9.8', '5']\n"
     ]
    }
   ],
   "source": [
    "import csv\n",
    "import numpy as np\n",
    "import matplotlib.pyplot as plt\n",
    "\n",
    "personinfo = np.genfromtxt(\"person.csv\", delimiter=\";\", skip_header=1)\n",
    "roominfo = np.genfromtxt(\"room.csv\", delimiter=\";\", skip_header=1)\n",
    "actioninfo = np.genfromtxt(\"action.csv\", delimiter=\";\", skip_header=1)\n",
    "print(personinfo)"
   ]
  },
  {
   "cell_type": "code",
   "execution_count": 10,
   "id": "2a4511ab",
   "metadata": {},
   "outputs": [
    {
     "data": {
      "text/plain": [
       "array([[ 7.8  ,  0.88 ,  0.   , ...,  0.68 ,  9.8  ,  5.   ],\n",
       "       [ 7.8  ,  0.76 ,  0.04 , ...,  0.65 ,  9.8  ,  5.   ],\n",
       "       [11.2  ,  0.28 ,  0.56 , ...,  0.58 ,  9.8  ,  6.   ],\n",
       "       ...,\n",
       "       [ 6.3  ,  0.51 ,  0.13 , ...,  0.75 , 11.   ,  6.   ],\n",
       "       [ 5.9  ,  0.645,  0.12 , ...,  0.71 , 10.2  ,  5.   ],\n",
       "       [ 6.   ,  0.31 ,  0.47 , ...,  0.66 , 11.   ,  6.   ]])"
      ]
     },
     "execution_count": 10,
     "metadata": {},
     "output_type": "execute_result"
    }
   ],
   "source": [
    "action_history = personinfo[:,2]  #gets action of history\n",
    "personality = personinfo[:,[0,1]] #gets initial personality\n",
    "room_status_fin = roominfo[:]     #gets name and individuals in room \n",
    "action_diff = []"
   ]
  },
  {
   "cell_type": "code",
   "execution_count": 9,
   "id": "4ca78bcf",
   "metadata": {},
   "outputs": [
    {
     "data": {
      "text/plain": [
       "(1598, 12)"
      ]
     },
     "execution_count": 9,
     "metadata": {},
     "output_type": "execute_result"
    }
   ],
   "source": [
    "for x in personinfo:   #gets the difference between personality and mean action vector\n",
    "    action_log = x[2]\n",
    "    personality = x[1]\n",
    "    mlv = action_log[:,2] \n",
    "    action_avg = np.mean(mlv, axis = 0)   #averages most likely vector of each action\n",
    "    action_diff.append(np.subtract(personality - action_avg))\n",
    "print(action_diff)  \n",
    "    "
   ]
  },
  {
   "cell_type": "code",
   "execution_count": 15,
   "id": "a199f8fb",
   "metadata": {},
   "outputs": [
    {
     "data": {
      "text/plain": [
       "array([[ 7.4  ,  0.7  ,  0.   , ...,  0.56 ,  9.4  ,  5.   ],\n",
       "       [ 7.8  ,  0.88 ,  0.   , ...,  0.68 ,  9.8  ,  5.   ],\n",
       "       [ 7.8  ,  0.76 ,  0.04 , ...,  0.65 ,  9.8  ,  5.   ],\n",
       "       ...,\n",
       "       [ 6.3  ,  0.51 ,  0.13 , ...,  0.75 , 11.   ,  6.   ],\n",
       "       [ 5.9  ,  0.645,  0.12 , ...,  0.71 , 10.2  ,  5.   ],\n",
       "       [ 6.   ,  0.31 ,  0.47 , ...,  0.66 , 11.   ,  6.   ]])"
      ]
     },
     "execution_count": 15,
     "metadata": {},
     "output_type": "execute_result"
    }
   ],
   "source": [
    "count = 0\n",
    "inConv = False\n",
    "convtot = []\n",
    "for action in action_history: #gets mean length of conversation\n",
    "    if action.name == 'Start Conversation':\n",
    "        count = 1\n",
    "        inConv = True\n",
    "    elif action.name == 'Leave Conversation':\n",
    "        convtot.append(count)\n",
    "        inConv = False\n",
    "    elif inConv:\n",
    "        count += 1\n",
    "avgconv = sum(convtot) / len(convtot)\n"
   ]
  },
  {
   "cell_type": "code",
   "execution_count": null,
   "id": "ec82da12",
   "metadata": {},
   "outputs": [],
   "source": [
    "freq_dict = {}\n",
    "for action in action_history: #frequency distribution of person's actions\n",
    "    if action.name in freq_dict:\n",
    "        freq_dict[action.name] += 1\n",
    "    else:\n",
    "        freq_dict[action.name] = 1\n",
    "print(freq_dict)\n",
    "    "
   ]
  },
  {
   "cell_type": "code",
   "execution_count": 14,
   "id": "6fd79630",
   "metadata": {},
   "outputs": [
    {
     "data": {
      "text/plain": [
       "(1599, 12)"
      ]
     },
     "execution_count": 14,
     "metadata": {},
     "output_type": "execute_result"
    }
   ],
   "source": [
    "personinfo.shape"
   ]
  }
 ],
 "metadata": {
  "kernelspec": {
   "display_name": "Python 3 (ipykernel)",
   "language": "python",
   "name": "python3"
  },
  "language_info": {
   "codemirror_mode": {
    "name": "ipython",
    "version": 3
   },
   "file_extension": ".py",
   "mimetype": "text/x-python",
   "name": "python",
   "nbconvert_exporter": "python",
   "pygments_lexer": "ipython3",
   "version": "3.9.13"
  }
 },
 "nbformat": 4,
 "nbformat_minor": 5
}
