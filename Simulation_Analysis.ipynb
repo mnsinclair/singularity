{
 "cells": [
  {
   "cell_type": "code",
   "execution_count": 1,
   "id": "ffc145fb",
   "metadata": {},
   "outputs": [
    {
     "name": "stdout",
     "output_type": "stream",
     "text": [
      "      Unnamed: 0  run_number  round_number  turn_number  \\\n",
      "0              0           0             0            0   \n",
      "1              1           0             0            1   \n",
      "2              2           0             0            2   \n",
      "3              3           0             0            3   \n",
      "4              4           0             0            4   \n",
      "...          ...         ...           ...          ...   \n",
      "3195        3195           9             9          315   \n",
      "3196        3196           9             9          316   \n",
      "3197        3197           9             9          317   \n",
      "3198        3198           9             9          318   \n",
      "3199        3199           9             9          319   \n",
      "\n",
      "                     _action_name person_before_action_name  \\\n",
      "0             starts_conversation                     Robin   \n",
      "1                stands_in_corner                   Patrick   \n",
      "2                     leaves_room                    Ronnie   \n",
      "3                stands_in_corner                 Jacquelyn   \n",
      "4                stands_in_corner                   Phyllis   \n",
      "...                           ...                       ...   \n",
      "3195                       shouts                      John   \n",
      "3196  gives_controversial_opinion                     Brian   \n",
      "3197             stands_in_corner                     James   \n",
      "3198               shows_interest                  Mauricio   \n",
      "3199               shows_interest                   Lillian   \n",
      "\n",
      "     person_before_action_personality_vector  \\\n",
      "0                                [0 0 0 0 0]   \n",
      "1                                [0 0 0 0 1]   \n",
      "2                                [0 0 0 1 0]   \n",
      "3                                [0 0 0 1 1]   \n",
      "4                                [0 0 1 0 0]   \n",
      "...                                      ...   \n",
      "3195                             [1 1 0 1 1]   \n",
      "3196                             [1 1 1 0 0]   \n",
      "3197                             [1 1 1 0 1]   \n",
      "3198                             [1 1 1 1 0]   \n",
      "3199                             [1 1 1 1 1]   \n",
      "\n",
      "       person_before_action_emotional_state  \\\n",
      "0        [0.52343317 0.90484936 0.44013754]   \n",
      "1        [0.02383809 0.25120665 0.61324462]   \n",
      "2     [ 0.12062503  0.57886883 -0.38059661]   \n",
      "3     [ 0.20839919  0.54358113 -0.34764151]   \n",
      "4     [ 0.83934999 -0.52684944  0.43411926]   \n",
      "...                                     ...   \n",
      "3195     [0.75665712 0.62772897 0.9995    ]   \n",
      "3196     [0.98391235 0.26529018 0.4518467 ]   \n",
      "3197  [ 0.06756071 -0.15241597  0.99459018]   \n",
      "3198  [ 0.98761298 -0.24127514  0.999     ]   \n",
      "3199  [ 0.03821021 -0.58730521  1.        ]   \n",
      "\n",
      "     person_before_action_location_state  \\\n",
      "0                                   Hall   \n",
      "1                                   Hall   \n",
      "2                                 Lounge   \n",
      "3                                Kitchen   \n",
      "4                                Kitchen   \n",
      "...                                  ...   \n",
      "3195                             Kitchen   \n",
      "3196                             Kitchen   \n",
      "3197                             Kitchen   \n",
      "3198                                Hall   \n",
      "3199                              Lounge   \n",
      "\n",
      "              person_before_action_current_action_probs  ...  \\\n",
      "0                                                    {}  ...   \n",
      "1                                                    {}  ...   \n",
      "2                                                    {}  ...   \n",
      "3                                                    {}  ...   \n",
      "4                                                    {}  ...   \n",
      "...                                                 ...  ...   \n",
      "3195  {shouts: 0.06500614522849757, shares: 0.056882...  ...   \n",
      "3196  {shouts: 0.06212534121141463, shares: 0.108392...  ...   \n",
      "3197  {shouts: 0.05971175323774334, shares: 0.067999...  ...   \n",
      "3198  {shouts: 0.06445139695312942, shares: 0.085331...  ...   \n",
      "3199  {shouts: 0.05786733691261668, shares: 0.061791...  ...   \n",
      "\n",
      "      partner_before_action_emotional_state  \\\n",
      "0                                       NaN   \n",
      "1                                       NaN   \n",
      "2                                       NaN   \n",
      "3                                       NaN   \n",
      "4                                       NaN   \n",
      "...                                     ...   \n",
      "3195  [-0.02082584 -0.54475489 -0.54933708]   \n",
      "3196  [-0.78895747 -0.42408617 -0.03331305]   \n",
      "3197                                    NaN   \n",
      "3198  [-0.34798744 -0.98158442  0.23000683]   \n",
      "3199  [ 0.23892558  0.953      -0.30344464]   \n",
      "\n",
      "     partner_before_action_location_state  \\\n",
      "0                                     NaN   \n",
      "1                                     NaN   \n",
      "2                                     NaN   \n",
      "3                                     NaN   \n",
      "4                                     NaN   \n",
      "...                                   ...   \n",
      "3195                              Kitchen   \n",
      "3196                              Kitchen   \n",
      "3197                                  NaN   \n",
      "3198                                 Hall   \n",
      "3199                               Lounge   \n",
      "\n",
      "             partner_before_action_current_action_probs  \\\n",
      "0                                                   NaN   \n",
      "1                                                   NaN   \n",
      "2                                                   NaN   \n",
      "3                                                   NaN   \n",
      "4                                                   NaN   \n",
      "...                                                 ...   \n",
      "3195  {shouts: 0.053444760742437945, shares: 0.06557...   \n",
      "3196  {stands_in_corner: 0.26512922606903216, leaves...   \n",
      "3197                                                NaN   \n",
      "3198  {shouts: 0.020033284799256746, shares: 0.02557...   \n",
      "3199  {shouts: 0.022352494031442998, shares: 0.02773...   \n",
      "\n",
      "     partner_before_action_conversation_partner partner_after_action_name  \\\n",
      "0                                           NaN                     David   \n",
      "1                                           NaN                       NaN   \n",
      "2                                           NaN                       NaN   \n",
      "3                                           NaN                       NaN   \n",
      "4                                           NaN                       NaN   \n",
      "...                                         ...                       ...   \n",
      "3195                                       John                     Edith   \n",
      "3196                                      Brian                    Johnny   \n",
      "3197                                        NaN                       NaN   \n",
      "3198                                   Mauricio                 Jacquelyn   \n",
      "3199                                    Lillian                     David   \n",
      "\n",
      "     partner_after_action_personality_vector  \\\n",
      "0                                [0 1 0 1 0]   \n",
      "1                                        NaN   \n",
      "2                                        NaN   \n",
      "3                                        NaN   \n",
      "4                                        NaN   \n",
      "...                                      ...   \n",
      "3195                             [0 1 1 1 1]   \n",
      "3196                             [1 0 1 0 1]   \n",
      "3197                                     NaN   \n",
      "3198                             [0 0 0 1 1]   \n",
      "3199                             [1 0 0 1 0]   \n",
      "\n",
      "       partner_after_action_emotional_state  \\\n",
      "0     [-0.08079692 -0.09331979 -0.59328136]   \n",
      "1                                       NaN   \n",
      "2                                       NaN   \n",
      "3                                       NaN   \n",
      "4                                       NaN   \n",
      "...                                     ...   \n",
      "3195  [-0.03082584 -0.49475489 -0.55933708]   \n",
      "3196  [-0.79895747 -0.39408617 -0.00331305]   \n",
      "3197                                    NaN   \n",
      "3198  [-0.34698744 -0.97958442  0.23100683]   \n",
      "3199  [ 0.23992558  0.955      -0.30244464]   \n",
      "\n",
      "     partner_after_action_location_state  \\\n",
      "0                                   Hall   \n",
      "1                                    NaN   \n",
      "2                                    NaN   \n",
      "3                                    NaN   \n",
      "4                                    NaN   \n",
      "...                                  ...   \n",
      "3195                             Kitchen   \n",
      "3196                             Kitchen   \n",
      "3197                                 NaN   \n",
      "3198                                Hall   \n",
      "3199                              Lounge   \n",
      "\n",
      "              partner_after_action_current_action_probs  \\\n",
      "0                                                    {}   \n",
      "1                                                   NaN   \n",
      "2                                                   NaN   \n",
      "3                                                   NaN   \n",
      "4                                                   NaN   \n",
      "...                                                 ...   \n",
      "3195  {shouts: 0.053444760742437945, shares: 0.06557...   \n",
      "3196  {stands_in_corner: 0.26512922606903216, leaves...   \n",
      "3197                                                NaN   \n",
      "3198  {shouts: 0.020033284799256746, shares: 0.02557...   \n",
      "3199  {shouts: 0.022352494031442998, shares: 0.02773...   \n",
      "\n",
      "     partner_after_action_conversation_partner  \n",
      "0                                        Robin  \n",
      "1                                          NaN  \n",
      "2                                          NaN  \n",
      "3                                          NaN  \n",
      "4                                          NaN  \n",
      "...                                        ...  \n",
      "3195                                      John  \n",
      "3196                                     Brian  \n",
      "3197                                       NaN  \n",
      "3198                                  Mauricio  \n",
      "3199                                   Lillian  \n",
      "\n",
      "[3200 rows x 29 columns]\n"
     ]
    }
   ],
   "source": [
    "import numpy as np\n",
    "import pandas as pd\n",
    "import json\n",
    "import matplotlib.pyplot as plt\n",
    "from operator import add\n",
    "#import matplotlib.pyplot as plt\n",
    "personinfo = pd.DataFrame(pd.read_csv((r\"logs/all_together.csv\")))\n",
    "actionvalues = pd.DataFrame(pd.read_csv((r\"action_values.csv\")))\n",
    "print(personinfo)"
   ]
  },
  {
   "cell_type": "code",
   "execution_count": 68,
   "id": "2a4511ab",
   "metadata": {},
   "outputs": [
    {
     "name": "stdout",
     "output_type": "stream",
     "text": [
      "0           Robin\n",
      "1         Patrick\n",
      "2          Ronnie\n",
      "3       Jacquelyn\n",
      "4         Phyllis\n",
      "          ...    \n",
      "3195         John\n",
      "3196        Brian\n",
      "3197        James\n",
      "3198     Mauricio\n",
      "3199      Lillian\n",
      "Name: person_before_action_name, Length: 3200, dtype: object\n"
     ]
    }
   ],
   "source": [
    "def set_up(personinfo):\n",
    "    action_history = personinfo.loc[:,'_action_name']\n",
    "    person_action_history = personinfo.loc[:,'person_before_action_name']\n",
    "    personactionlist = []\n",
    "    count = 0\n",
    "    #df = df[((df['A'] > 0) & (df['B'] > 0)) | ((df['A'] < 0) & (df['B'] < 0))]\n",
    "    for person in person_action_history:\n",
    "        if count < 10:\n",
    "            persondetails = pd.DataFrame(personinfo.loc[(personinfo['person_before_action_name'] == person) | (personinfo['person_after_action_conversation_partner'] == person)])\n",
    "            #editeddetails = persondetails[['person_before_action_name', 'person_before_action_emotional_state', 'person_before_action_location_state']]\n",
    "            persondetails.to_csv('personlogs/' + person + '_testing.csv')\n",
    "            personactionlist.append(persondetails)\n",
    "        count += 1\n",
    "    \n",
    "    return person_action_history\n",
    "    \n",
    "person_list = set_up(personinfo=personinfo)\n",
    "print(person_list)    "
   ]
  },
  {
   "cell_type": "code",
   "execution_count": 3,
   "id": "ec82da12",
   "metadata": {},
   "outputs": [],
   "source": [
    "def freq_dist(action_history):\n",
    "    freq_dict = {}\n",
    "    for action in action_history: #frequency distribution of person's actions\n",
    "        if action in freq_dict:\n",
    "            freq_dict[action] += 1\n",
    "        else:\n",
    "            freq_dict[action] = 1\n",
    "    return freq_dict\n",
    "    "
   ]
  },
  {
   "cell_type": "code",
   "execution_count": 4,
   "id": "a199f8fb",
   "metadata": {},
   "outputs": [],
   "source": [
    "def conv_mean(action_history):\n",
    "    count = 0\n",
    "    inConv = False\n",
    "    convtot = []\n",
    "    for action in action_history: #gets mean length of conversation\n",
    "        if action == 'starts_conversation':\n",
    "            count = 1\n",
    "            inConv = True\n",
    "        elif action == 'leaves_conversation':\n",
    "            convtot.append(count)\n",
    "            inConv = False\n",
    "        elif inConv:\n",
    "            count += 1\n",
    "    avgconv = sum(convtot) / len(convtot)\n",
    "    return avgconv\n"
   ]
  },
  {
   "cell_type": "code",
   "execution_count": 5,
   "id": "4ca78bcf",
   "metadata": {},
   "outputs": [
    {
     "name": "stdout",
     "output_type": "stream",
     "text": [
      "mean convo length for Robin  :  28.0\n",
      "freq distribution {'starts_conversation': 5, 'leaves_room': 9, 'stands_in_corner': 7, 'yawns': 52, 'makes_deeptalk': 3, 'shares': 2, 'jokes': 5, 'gives_controversial_opinion': 3, 'brags': 3, 'makes_smalltalk': 2, 'changes_the_topic': 1, 'laughs': 2, 'leaves_conversation': 1, 'rants': 1, 'gives_an_insult': 1, 'supports': 2, 'shows_concern': 1}\n",
      "TOTAL IS: [7, -4, 18, -10, -11]\n",
      "average:  [0.04, -0.02, 0.09, -0.05, -0.06]\n",
      "100\n",
      "mean convo length for Patrick  :  6.666666666666667\n",
      "freq distribution {'stands_in_corner': 8, 'leaves_room': 7, 'gives_controversial_opinion': 6, 'shows_interest': 1, 'supports': 4, 'makes_smalltalk': 5, 'rants': 2, 'changes_the_topic': 4, 'laughs': 4, 'starts_conversation': 8, 'brags': 8, 'shows_concern': 13, 'gives_an_insult': 12, 'jokes': 3, 'yawns': 7, 'shares': 2, 'shouts': 3, 'leaves_conversation': 3}\n",
      "TOTAL IS: [8, -10, 30, -13, -2]\n",
      "average:  [0.04, -0.05, 0.15, -0.07, -0.01]\n",
      "100\n",
      "mean convo length for Ronnie  :  8.25\n",
      "freq distribution {'leaves_room': 8, 'starts_conversation': 10, 'brags': 10, 'supports': 7, 'makes_smalltalk': 2, 'shows_concern': 5, 'shows_interest': 7, 'jokes': 2, 'leaves_conversation': 4, 'shouts': 10, 'laughs': 5, 'gives_controversial_opinion': 2, 'changes_the_topic': 5, 'shares': 2, 'yawns': 6, 'stands_in_corner': 6, 'gives_an_insult': 5, 'makes_deeptalk': 4}\n",
      "TOTAL IS: [18, -7, 39, 1, -26]\n",
      "average:  [0.09, -0.04, 0.2, 0.01, -0.13]\n",
      "100\n",
      "mean convo length for Jacquelyn  :  12.5\n",
      "freq distribution {'stands_in_corner': 6, 'leaves_room': 5, 'starts_conversation': 8, 'shows_concern': 51, 'yawns': 3, 'gives_an_insult': 2, 'makes_smalltalk': 3, 'changes_the_topic': 2, 'makes_deeptalk': 1, 'shares': 5, 'supports': 1, 'leaves_conversation': 2, 'shows_interest': 2, 'brags': 2, 'jokes': 2, 'shouts': 1, 'laughs': 1, 'rants': 2, 'gives_controversial_opinion': 1}\n",
      "TOTAL IS: [8, -3, 18, 44, 39]\n",
      "average:  [0.04, -0.01, 0.09, 0.22, 0.2]\n",
      "100\n",
      "mean convo length for Phyllis  :  13.0\n",
      "freq distribution {'stands_in_corner': 8, 'shows_interest': 7, 'brags': 4, 'shares': 4, 'gives_an_insult': 5, 'starts_conversation': 4, 'gives_controversial_opinion': 6, 'supports': 7, 'rants': 4, 'makes_smalltalk': 5, 'yawns': 10, 'shouts': 7, 'laughs': 4, 'leaves_room': 7, 'jokes': 3, 'shows_concern': 5, 'makes_deeptalk': 5, 'changes_the_topic': 4, 'leaves_conversation': 1}\n",
      "TOTAL IS: [21, -10, 40, -9, -17]\n",
      "average:  [0.1, -0.05, 0.2, -0.04, -0.09]\n",
      "100\n",
      "mean convo length for Agnes  :  4.666666666666667\n",
      "freq distribution {'leaves_room': 5, 'supports': 5, 'gives_controversial_opinion': 6, 'jokes': 3, 'shouts': 3, 'shares': 4, 'brags': 4, 'shows_concern': 3, 'stands_in_corner': 11, 'starts_conversation': 12, 'yawns': 7, 'rants': 5, 'gives_an_insult': 4, 'leaves_conversation': 6, 'shows_interest': 7, 'changes_the_topic': 5, 'makes_deeptalk': 5, 'laughs': 4, 'makes_smalltalk': 1}\n",
      "TOTAL IS: [26, -11, 31, -12, -17]\n",
      "average:  [0.13, -0.06, 0.15, -0.06, -0.09]\n",
      "100\n",
      "mean convo length for Dorothy  :  7.0\n",
      "freq distribution {'stands_in_corner': 5, 'leaves_room': 1, 'shares': 2, 'gives_an_insult': 1, 'supports': 47, 'laughs': 5, 'starts_conversation': 8, 'shows_concern': 4, 'changes_the_topic': 8, 'jokes': 1, 'shows_interest': 5, 'yawns': 6, 'rants': 2, 'leaves_conversation': 1, 'shouts': 4}\n",
      "TOTAL IS: [15, -8, 58, 47, -17]\n",
      "average:  [0.07, -0.04, 0.29, 0.23, -0.09]\n",
      "100\n",
      "mean convo length for Shawn  :  5.0\n",
      "freq distribution {'stands_in_corner': 8, 'starts_conversation': 11, 'gives_controversial_opinion': 5, 'shows_interest': 3, 'yawns': 8, 'rants': 4, 'shares': 7, 'makes_smalltalk': 7, 'shows_concern': 6, 'shouts': 5, 'changes_the_topic': 3, 'brags': 3, 'makes_deeptalk': 5, 'gives_an_insult': 1, 'leaves_conversation': 1, 'supports': 3, 'jokes': 9, 'leaves_room': 8, 'laughs': 3}\n",
      "TOTAL IS: [16, -8, 50, 2, -30]\n",
      "average:  [0.08, -0.04, 0.25, 0.01, -0.15]\n",
      "100\n",
      "mean convo length for David  :  7.214285714285714\n",
      "freq distribution {'starts_conversation': 31, 'leaves_conversation': 14, 'leaves_room': 25, 'laughs': 13, 'stands_in_corner': 23, 'shouts': 10, 'shows_concern': 14, 'shows_interest': 57, 'makes_smalltalk': 12, 'rants': 10, 'supports': 9, 'brags': 11, 'yawns': 17, 'gives_an_insult': 6, 'shares': 15, 'jokes': 7, 'makes_deeptalk': 10, 'changes_the_topic': 6, 'gives_controversial_opinion': 10}\n",
      "TOTAL IS: [86, -16, 88, 24, -46]\n",
      "average:  [0.43, -0.08, 0.44, 0.12, -0.23]\n",
      "300\n",
      "mean convo length for Donald  :  6.75\n",
      "freq distribution {'shares': 9, 'starts_conversation': 15, 'leaves_conversation': 16, 'yawns': 8, 'stands_in_corner': 20, 'shows_interest': 7, 'brags': 13, 'rants': 9, 'leaves_room': 22, 'shouts': 14, 'gives_controversial_opinion': 5, 'gives_an_insult': 11, 'jokes': 4, 'laughs': 8, 'shows_concern': 8, 'makes_smalltalk': 11, 'supports': 10, 'changes_the_topic': 4, 'makes_deeptalk': 6}\n",
      "TOTAL IS: [20, -9, 60, -43, -17]\n",
      "average:  [0.1, -0.04, 0.3, -0.21, -0.09]\n",
      "200\n"
     ]
    }
   ],
   "source": [
    "count = 0\n",
    "for x in person_list:   #gets the difference between personality and mean action vector\n",
    "    if count < 10:\n",
    "        tot = [0,0,0,0,0]\n",
    "        filepath = \"personlogs/\" + x + \"_testing.csv\"\n",
    "        individualinfo = pd.DataFrame(pd.read_csv((filepath)))\n",
    "        indiactioninfo = pd.DataFrame(individualinfo.loc[individualinfo['person_before_action_name'] == x])\n",
    "        indi_action_history = indiactioninfo.loc[:,'_action_name']\n",
    "        action_length = conv_mean(indi_action_history)                #finds the mean conversation length per person\n",
    "        print(\"mean convo length for\", x, \" : \", str(action_length))\n",
    "        freq_distribution = freq_dist(indi_action_history)             #finds the frequency distribution of actions per person\n",
    "        print(\"freq distribution\", freq_distribution)\n",
    "        intcount = 0\n",
    "        for action in indi_action_history:\n",
    "            mapped_actions = pd.DataFrame(actionvalues.loc[actionvalues['action_name'] == action])\n",
    "            #print(mapped_actions)\n",
    "            #print('------------------------------------')\n",
    "            for item in (mapped_actions.loc[:,'most_likely_personality_vector_OCEAN']):\n",
    "                intlist = json.loads(item)\n",
    "                tot = list(map(add, intlist, tot))\n",
    "            \n",
    "            intcount += 1\n",
    "        print('TOTAL IS:', tot)\n",
    "        avg_vector = []\n",
    "        for item in tot:\n",
    "            avg_vector.append(round(item/200,2))\n",
    "        print(\"average: \", avg_vector)\n",
    "        print(intcount)\n",
    "        indi_action_history.to_csv('personlogstesting/' + x + '_testing.csv')\n",
    "    count += 1\n",
    "    #action_log = x[2]\n",
    "    #personality = x[1]\n",
    "    #mlv = action_log[:,2] \n",
    "    #action_avg = np.mean(mlv, axis = 0)   #averages most likely vector of each action\n",
    "    #action_diff.append(np.subtract(personality - action_avg))\n",
    "#print(action_diff)  \n",
    "    "
   ]
  },
  {
   "cell_type": "code",
   "execution_count": 6,
   "id": "6fd79630",
   "metadata": {},
   "outputs": [
    {
     "data": {
      "image/png": "[encoded data removed]",
      "text/plain": [
       "<Figure size 432x288 with 1 Axes>"
      ]
     },
     "metadata": {
      "needs_background": "light"
     },
     "output_type": "display_data"
    }
   ],
   "source": [
    "signs = [-1, 1]\n",
    "magnitudes = [mag / 100 for mag in range(1,10)]\n",
    "\n",
    "num_dimensions = 3\n",
    "num_change_vectors = 100\n",
    "\n",
    "example_vectors = np.array([[np.random.choice(magnitudes) * np.random.choice(signs) for _ in range(num_dimensions)] for _ in range(num_change_vectors)])\n",
    "\n",
    "# Obsolete matplotlib method (second method is better)\n",
    "fig = plt.figure()\n",
    "ax = fig.add_subplot(111, projection='3d')\n",
    "ax.axes.set_xlim3d(-1, 1)\n",
    "ax.axes.set_ylim3d(-1, 1)\n",
    "ax.axes.set_zlim3d(-1, 1)\n",
    "\n",
    "prev_pos = np.array([0,0,0])\n",
    "#Plot the change vectors\n",
    "for example_vector in example_vectors:\n",
    "    x1,y1,z1 = prev_pos\n",
    "    new_pos = prev_pos + example_vector\n",
    "    x2,y2,z2 = new_pos\n",
    "    ax.plot((x1,x2),(y1,y2),(z1,z2))\n",
    "    prev_pos = new_pos"
   ]
  },
  {
   "cell_type": "code",
   "execution_count": 80,
   "id": "8345568a",
   "metadata": {},
   "outputs": [],
   "source": [
    "import plotly.graph_objects as go\n",
    "import pandas as pd\n",
    "import numpy as np\n",
    "import time\n",
    "\n",
    "rs = np.random.RandomState()\n",
    "rs.seed(0)"
   ]
  },
  {
   "cell_type": "code",
   "execution_count": 92,
   "id": "dfb90c35",
   "metadata": {},
   "outputs": [
    {
     "name": "stdout",
     "output_type": "stream",
     "text": [
      "[[ 9.38586680e-01  9.87586680e-01  1.00000000e+00  1.00000000e+00\n",
      "   9.90000000e-01  9.79000000e-01  9.96000000e-01  9.92000000e-01\n",
      "   9.95000000e-01  9.95000000e-01  1.70526470e-01  1.70526470e-01\n",
      "   1.69526470e-01  1.64526470e-01  1.64526470e-01  1.66526470e-01\n",
      "   1.68526470e-01  1.58526470e-01  2.11526470e-01  2.15526470e-01\n",
      "  -6.82812970e-01 -6.67812970e-01 -6.64812970e-01 -6.50812970e-01\n",
      "  -6.45812970e-01 -6.49812970e-01 -6.51812970e-01 -6.55812970e-01\n",
      "  -6.63812970e-01 -6.63812970e-01 -9.15657870e-01 -9.10657870e-01\n",
      "  -9.05657870e-01 -9.00657870e-01 -8.90657870e-01 -8.89657870e-01\n",
      "  -8.84657870e-01 -8.82657870e-01 -8.77657870e-01 -8.67657870e-01\n",
      "  -8.91674250e-01 -8.91674250e-01 -8.91674250e-01 -8.81674250e-01\n",
      "  -8.89674250e-01 -8.87674250e-01 -8.33674250e-01 -7.84674250e-01\n",
      "  -7.81674250e-01 -7.80674250e-01 -4.47684580e-01 -4.28684580e-01\n",
      "  -4.37684580e-01 -3.88684580e-01 -3.93684580e-01 -3.38684580e-01\n",
      "  -3.48684580e-01 -3.42684580e-01 -3.35684580e-01 -3.42684580e-01\n",
      "  -8.20380900e-01 -8.16380900e-01 -8.24380900e-01 -7.84380900e-01\n",
      "  -7.29380900e-01 -7.27380900e-01 -6.87380900e-01 -6.97380900e-01\n",
      "  -6.95380900e-01 -6.35380900e-01 -7.38490270e-01 -7.38490270e-01\n",
      "  -7.38490270e-01 -7.38490270e-01 -7.25490269e-01 -7.36490270e-01\n",
      "  -7.34490270e-01 -7.34490270e-01 -7.37490270e-01 -7.45490270e-01\n",
      "   3.63080900e-01  3.63080900e-01  4.13080900e-01  4.21080900e-01\n",
      "   4.24080900e-01  4.31080900e-01  4.81080900e-01  4.84080900e-01\n",
      "   4.79080900e-01  4.81080900e-01  9.75612980e-01  9.81612980e-01\n",
      "   9.94612980e-01  9.96612980e-01  9.97612980e-01  9.89612980e-01\n",
      "   9.87612980e-01  9.87612980e-01  9.88612980e-01  9.88612980e-01]\n",
      " [-8.73667020e-01 -8.21667020e-01 -7.21667020e-01 -6.73667020e-01\n",
      "  -6.43667020e-01 -6.11667020e-01 -5.60667020e-01 -5.54667020e-01\n",
      "  -5.52667020e-01 -5.52667020e-01  8.27473730e-01  8.27473730e-01\n",
      "   8.26473730e-01  8.31473730e-01  8.35473730e-01  8.37473730e-01\n",
      "   8.39473730e-01  7.89473730e-01  8.39473730e-01  8.42473730e-01\n",
      "   8.37135670e-01  8.87135670e-01  8.86135670e-01  9.38135670e-01\n",
      "   9.39135670e-01  9.45135670e-01  9.45135670e-01  9.52135670e-01\n",
      "   9.83135670e-01  9.82135670e-01  5.75301750e-01  5.77301750e-01\n",
      "   5.78301750e-01  5.80301750e-01  6.10301750e-01  6.12301750e-01\n",
      "   6.13301750e-01  6.14301750e-01  6.15301750e-01  6.65301750e-01\n",
      "   3.93656530e-01  3.93656530e-01  3.93656530e-01  4.43656530e-01\n",
      "   4.94656530e-01  4.92656530e-01  5.42656530e-01  5.91656530e-01\n",
      "   5.93656530e-01  5.93656530e-01  2.32100060e-01  2.82100060e-01\n",
      "   2.34100060e-01  2.86100060e-01  2.91100060e-01  3.43100060e-01\n",
      "   3.93100060e-01  3.96100060e-01  3.98100060e-01  3.48100060e-01\n",
      "  -4.53655540e-01 -4.51655540e-01 -4.20655540e-01 -3.40655540e-01\n",
      "  -2.88655540e-01 -2.84655540e-01 -2.84655540e-01  4.53444600e-02\n",
      "   4.63444600e-02  1.46344460e-01 -5.77202440e-01 -5.77202440e-01\n",
      "  -5.77202440e-01 -5.77202440e-01 -5.27202445e-01 -4.95202440e-01\n",
      "  -4.97202440e-01 -4.96202440e-01 -4.94202440e-01 -4.63202440e-01\n",
      "   4.45008970e-01  4.45008970e-01  4.95008970e-01  4.97008970e-01\n",
      "   4.98008970e-01  5.00008970e-01  5.50008970e-01  5.52008970e-01\n",
      "   6.03008970e-01  6.06008970e-01 -6.28275140e-01 -6.25275140e-01\n",
      "  -5.77275140e-01 -5.75275140e-01 -5.77275140e-01 -5.46275140e-01\n",
      "  -2.46275140e-01 -2.46275140e-01 -2.43275140e-01 -2.39275140e-01]\n",
      " [ 5.33160720e-01  5.32160720e-01  5.42160720e-01  5.50160720e-01\n",
      "   5.83160720e-01  6.13160720e-01  6.64160720e-01  6.63160720e-01\n",
      "   6.65160720e-01  6.55160720e-01 -3.73001700e-01 -3.73001700e-01\n",
      "  -3.71001700e-01 -3.70001700e-01 -3.72001700e-01 -3.73201700e-01\n",
      "  -3.74401700e-01 -3.91401700e-01 -3.91601700e-01 -3.90601700e-01\n",
      "  -8.82340000e-02 -3.82340000e-02 -4.02340000e-02  8.76600000e-03\n",
      "   8.46600000e-03  7.46600000e-03  9.46600000e-03  6.46600000e-03\n",
      "   3.65660000e-02  3.85660000e-02  6.52154250e-01  6.53154250e-01\n",
      "   6.53154250e-01  6.58154250e-01  6.88154250e-01  6.87154250e-01\n",
      "   6.89154250e-01  6.93154250e-01  6.93154250e-01  7.03154250e-01\n",
      "   1.87892570e-01  1.87892570e-01  1.87892570e-01  1.97892570e-01\n",
      "   1.87992570e-01  1.89492570e-01  1.89592570e-01  1.88592570e-01\n",
      "   1.88592570e-01  1.87392570e-01 -6.44251560e-01 -5.94151560e-01\n",
      "  -6.15151560e-01 -6.16151560e-01 -6.15151560e-01 -6.15151560e-01\n",
      "  -6.22151560e-01 -6.21151560e-01 -6.21251560e-01 -6.41451560e-01\n",
      "  -4.54672310e-01 -4.54672310e-01 -4.24572310e-01 -3.94572310e-01\n",
      "  -3.94572310e-01 -3.94572310e-01 -4.14572310e-01 -8.45723100e-02\n",
      "  -8.05723100e-02 -7.05723100e-02 -4.90489200e-02 -4.90489200e-02\n",
      "  -4.90489200e-02 -4.90489200e-02 -4.89239468e-05  2.99510800e-02\n",
      "   2.94510800e-02  2.74510800e-02  2.64510800e-02  5.65510800e-02\n",
      "  -4.74427840e-01 -4.74427840e-01 -4.74427840e-01 -4.74627840e-01\n",
      "  -4.75627840e-01 -4.73727840e-01 -4.70727840e-01 -4.68727840e-01\n",
      "  -4.76727840e-01 -4.74727840e-01  8.49469670e-01  8.52469670e-01\n",
      "   9.00469670e-01  8.99269670e-01  8.97069670e-01  9.27169670e-01\n",
      "   1.00000000e+00  1.00000000e+00  1.00000000e+00  9.98000000e-01]]\n"
     ]
    },
    {
     "data": {
      "application/vnd.plotly.v1+json": {
       "config": {
        "plotlyServerURL": "https://plot.ly"
       },
       "data": [
        {
         "line": {
          "color": [
           0,
           1,
           2,
           3,
           4,
           5,
           6,
           7,
           8,
           9
          ],
          "width": 2
         },
         "marker": {
          "colorscale": [
           [
            0,
            "#440154"
           ],
           [
            0.1111111111111111,
            "#482878"
           ],
           [
            0.2222222222222222,
            "#3e4989"
           ],
           [
            0.3333333333333333,
            "#31688e"
           ],
           [
            0.4444444444444444,
            "#26828e"
           ],
           [
            0.5555555555555556,
            "#1f9e89"
           ],
           [
            0.6666666666666666,
            "#35b779"
           ],
           [
            0.7777777777777778,
            "#6ece58"
           ],
           [
            0.8888888888888888,
            "#b5de2b"
           ],
           [
            1,
            "#fde725"
           ]
          ],
          "size": 4
         },
         "type": "scatter3d",
         "x": [
          0.93858668,
          0.98758668,
          1,
          1,
          0.99,
          0.979,
          0.996,
          0.992,
          0.995,
          0.995,
          0.17052647,
          0.17052647,
          0.16952647,
          0.16452647,
          0.16452647,
          0.16652647,
          0.16852647,
          0.15852647,
          0.21152647,
          0.21552647,
          -0.68281297,
          -0.66781297,
          -0.66481297,
          -0.65081297,
          -0.64581297,
          -0.64981297,
          -0.65181297,
          -0.65581297,
          -0.66381297,
          -0.66381297,
          -0.91565787,
          -0.91065787,
          -0.90565787,
          -0.90065787,
          -0.89065787,
          -0.88965787,
          -0.88465787,
          -0.88265787,
          -0.87765787,
          -0.86765787,
          -0.89167425,
          -0.89167425,
          -0.89167425,
          -0.88167425,
          -0.88967425,
          -0.88767425,
          -0.83367425,
          -0.78467425,
          -0.78167425,
          -0.78067425,
          -0.44768458,
          -0.42868458,
          -0.43768458,
          -0.38868458,
          -0.39368458,
          -0.33868458,
          -0.34868458,
          -0.34268458,
          -0.33568458,
          -0.34268458,
          -0.8203809,
          -0.8163809,
          -0.8243809,
          -0.7843809,
          -0.7293809,
          -0.7273809,
          -0.6873809,
          -0.6973809,
          -0.6953809,
          -0.6353809,
          -0.73849027,
          -0.73849027,
          -0.73849027,
          -0.73849027,
          -0.725490269,
          -0.73649027,
          -0.73449027,
          -0.73449027,
          -0.73749027,
          -0.74549027,
          0.3630809,
          0.3630809,
          0.4130809,
          0.4210809,
          0.4240809,
          0.4310809,
          0.4810809,
          0.4840809,
          0.4790809,
          0.4810809,
          0.97561298,
          0.98161298,
          0.99461298,
          0.99661298,
          0.99761298,
          0.98961298,
          0.98761298,
          0.98761298,
          0.98861298,
          0.98861298
         ],
         "y": [
          -0.87366702,
          -0.82166702,
          -0.72166702,
          -0.67366702,
          -0.64366702,
          -0.61166702,
          -0.56066702,
          -0.55466702,
          -0.55266702,
          -0.55266702,
          0.82747373,
          0.82747373,
          0.82647373,
          0.83147373,
          0.83547373,
          0.83747373,
          0.83947373,
          0.78947373,
          0.83947373,
          0.84247373,
          0.83713567,
          0.88713567,
          0.88613567,
          0.93813567,
          0.93913567,
          0.94513567,
          0.94513567,
          0.95213567,
          0.98313567,
          0.98213567,
          0.57530175,
          0.57730175,
          0.57830175,
          0.58030175,
          0.61030175,
          0.61230175,
          0.61330175,
          0.61430175,
          0.61530175,
          0.66530175,
          0.39365653,
          0.39365653,
          0.39365653,
          0.44365653,
          0.49465653,
          0.49265653,
          0.54265653,
          0.59165653,
          0.59365653,
          0.59365653,
          0.23210006,
          0.28210006,
          0.23410006,
          0.28610006,
          0.29110006,
          0.34310006,
          0.39310006,
          0.39610006,
          0.39810006,
          0.34810006,
          -0.45365554,
          -0.45165554,
          -0.42065554,
          -0.34065554,
          -0.28865554,
          -0.28465554,
          -0.28465554,
          0.04534446,
          0.04634446,
          0.14634446,
          -0.57720244,
          -0.57720244,
          -0.57720244,
          -0.57720244,
          -0.527202445,
          -0.49520244,
          -0.49720244,
          -0.49620244,
          -0.49420244,
          -0.46320244,
          0.44500897,
          0.44500897,
          0.49500897,
          0.49700897,
          0.49800897,
          0.50000897,
          0.55000897,
          0.55200897,
          0.60300897,
          0.60600897,
          -0.62827514,
          -0.62527514,
          -0.57727514,
          -0.57527514,
          -0.57727514,
          -0.54627514,
          -0.24627514,
          -0.24627514,
          -0.24327514,
          -0.23927514
         ],
         "z": [
          0.53316072,
          0.53216072,
          0.54216072,
          0.55016072,
          0.58316072,
          0.61316072,
          0.66416072,
          0.66316072,
          0.66516072,
          0.65516072,
          -0.3730017,
          -0.3730017,
          -0.3710017,
          -0.3700017,
          -0.3720017,
          -0.3732017,
          -0.3744017,
          -0.3914017,
          -0.3916017,
          -0.3906017,
          -0.088234,
          -0.038234,
          -0.040234,
          0.008766,
          0.008466,
          0.007466,
          0.009466,
          0.006466,
          0.036566,
          0.038566,
          0.65215425,
          0.65315425,
          0.65315425,
          0.65815425,
          0.68815425,
          0.68715425,
          0.68915425,
          0.69315425,
          0.69315425,
          0.70315425,
          0.18789257,
          0.18789257,
          0.18789257,
          0.19789257,
          0.18799257,
          0.18949257,
          0.18959257,
          0.18859257,
          0.18859257,
          0.18739257,
          -0.64425156,
          -0.59415156,
          -0.61515156,
          -0.61615156,
          -0.61515156,
          -0.61515156,
          -0.62215156,
          -0.62115156,
          -0.62125156,
          -0.64145156,
          -0.45467231,
          -0.45467231,
          -0.42457231,
          -0.39457231,
          -0.39457231,
          -0.39457231,
          -0.41457231,
          -0.08457231,
          -0.08057231,
          -0.07057231,
          -0.04904892,
          -0.04904892,
          -0.04904892,
          -0.04904892,
          -4.89239468e-05,
          0.02995108,
          0.02945108,
          0.02745108,
          0.02645108,
          0.05655108,
          -0.47442784,
          -0.47442784,
          -0.47442784,
          -0.47462784,
          -0.47562784,
          -0.47372784,
          -0.47072784,
          -0.46872784,
          -0.47672784,
          -0.47472784,
          0.84946967,
          0.85246967,
          0.90046967,
          0.89926967,
          0.89706967,
          0.92716967,
          1,
          1,
          1,
          0.998
         ]
        }
       ],
       "layout": {
        "autosize": false,
        "height": 700,
        "scene": {
         "aspectmode": "manual",
         "aspectratio": {
          "x": 1,
          "y": 1,
          "z": 0.7
         },
         "camera": {
          "eye": {
           "x": 0,
           "y": 1.0707,
           "z": 1
          },
          "up": {
           "x": 0,
           "y": 0,
           "z": 1
          }
         },
         "xaxis": {
          "nticks": 4,
          "range": [
           -1,
           1
          ],
          "title": {
           "text": "Pleasure"
          }
         },
         "yaxis": {
          "nticks": 4,
          "range": [
           -1,
           1
          ],
          "title": {
           "text": "Arousal"
          }
         },
         "zaxis": {
          "nticks": 4,
          "range": [
           -1,
           1
          ],
          "title": {
           "text": "Dominance"
          }
         }
        },
        "template": {
         "data": {
          "bar": [
           {
            "error_x": {
             "color": "#2a3f5f"
            },
            "error_y": {
             "color": "#2a3f5f"
            },
            "marker": {
             "line": {
              "color": "#E5ECF6",
              "width": 0.5
             },
             "pattern": {
              "fillmode": "overlay",
              "size": 10,
              "solidity": 0.2
             }
            },
            "type": "bar"
           }
          ],
          "barpolar": [
           {
            "marker": {
             "line": {
              "color": "#E5ECF6",
              "width": 0.5
             },
             "pattern": {
              "fillmode": "overlay",
              "size": 10,
              "solidity": 0.2
             }
            },
            "type": "barpolar"
           }
          ],
          "carpet": [
           {
            "aaxis": {
             "endlinecolor": "#2a3f5f",
             "gridcolor": "white",
             "linecolor": "white",
             "minorgridcolor": "white",
             "startlinecolor": "#2a3f5f"
            },
            "baxis": {
             "endlinecolor": "#2a3f5f",
             "gridcolor": "white",
             "linecolor": "white",
             "minorgridcolor": "white",
             "startlinecolor": "#2a3f5f"
            },
            "type": "carpet"
           }
          ],
          "choropleth": [
           {
            "colorbar": {
             "outlinewidth": 0,
             "ticks": ""
            },
            "type": "choropleth"
           }
          ],
          "contour": [
           {
            "colorbar": {
             "outlinewidth": 0,
             "ticks": ""
            },
            "colorscale": [
             [
              0,
              "#0d0887"
             ],
             [
              0.1111111111111111,
              "#46039f"
             ],
             [
              0.2222222222222222,
              "#7201a8"
             ],
             [
              0.3333333333333333,
              "#9c179e"
             ],
             [
              0.4444444444444444,
              "#bd3786"
             ],
             [
              0.5555555555555556,
              "#d8576b"
             ],
             [
              0.6666666666666666,
              "#ed7953"
             ],
             [
              0.7777777777777778,
              "#fb9f3a"
             ],
             [
              0.8888888888888888,
              "#fdca26"
             ],
             [
              1,
              "#f0f921"
             ]
            ],
            "type": "contour"
           }
          ],
          "contourcarpet": [
           {
            "colorbar": {
             "outlinewidth": 0,
             "ticks": ""
            },
            "type": "contourcarpet"
           }
          ],
          "heatmap": [
           {
            "colorbar": {
             "outlinewidth": 0,
             "ticks": ""
            },
            "colorscale": [
             [
              0,
              "#0d0887"
             ],
             [
              0.1111111111111111,
              "#46039f"
             ],
             [
              0.2222222222222222,
              "#7201a8"
             ],
             [
              0.3333333333333333,
              "#9c179e"
             ],
             [
              0.4444444444444444,
              "#bd3786"
             ],
             [
              0.5555555555555556,
              "#d8576b"
             ],
             [
              0.6666666666666666,
              "#ed7953"
             ],
             [
              0.7777777777777778,
              "#fb9f3a"
             ],
             [
              0.8888888888888888,
              "#fdca26"
             ],
             [
              1,
              "#f0f921"
             ]
            ],
            "type": "heatmap"
           }
          ],
          "heatmapgl": [
           {
            "colorbar": {
             "outlinewidth": 0,
             "ticks": ""
            },
            "colorscale": [
             [
              0,
              "#0d0887"
             ],
             [
              0.1111111111111111,
              "#46039f"
             ],
             [
              0.2222222222222222,
              "#7201a8"
             ],
             [
              0.3333333333333333,
              "#9c179e"
             ],
             [
              0.4444444444444444,
              "#bd3786"
             ],
             [
              0.5555555555555556,
              "#d8576b"
             ],
             [
              0.6666666666666666,
              "#ed7953"
             ],
             [
              0.7777777777777778,
              "#fb9f3a"
             ],
             [
              0.8888888888888888,
              "#fdca26"
             ],
             [
              1,
              "#f0f921"
             ]
            ],
            "type": "heatmapgl"
           }
          ],
          "histogram": [
           {
            "marker": {
             "pattern": {
              "fillmode": "overlay",
              "size": 10,
              "solidity": 0.2
             }
            },
            "type": "histogram"
           }
          ],
          "histogram2d": [
           {
            "colorbar": {
             "outlinewidth": 0,
             "ticks": ""
            },
            "colorscale": [
             [
              0,
              "#0d0887"
             ],
             [
              0.1111111111111111,
              "#46039f"
             ],
             [
              0.2222222222222222,
              "#7201a8"
             ],
             [
              0.3333333333333333,
              "#9c179e"
             ],
             [
              0.4444444444444444,
              "#bd3786"
             ],
             [
              0.5555555555555556,
              "#d8576b"
             ],
             [
              0.6666666666666666,
              "#ed7953"
             ],
             [
              0.7777777777777778,
              "#fb9f3a"
             ],
             [
              0.8888888888888888,
              "#fdca26"
             ],
             [
              1,
              "#f0f921"
             ]
            ],
            "type": "histogram2d"
           }
          ],
          "histogram2dcontour": [
           {
            "colorbar": {
             "outlinewidth": 0,
             "ticks": ""
            },
            "colorscale": [
             [
              0,
              "#0d0887"
             ],
             [
              0.1111111111111111,
              "#46039f"
             ],
             [
              0.2222222222222222,
              "#7201a8"
             ],
             [
              0.3333333333333333,
              "#9c179e"
             ],
             [
              0.4444444444444444,
              "#bd3786"
             ],
             [
              0.5555555555555556,
              "#d8576b"
             ],
             [
              0.6666666666666666,
              "#ed7953"
             ],
             [
              0.7777777777777778,
              "#fb9f3a"
             ],
             [
              0.8888888888888888,
              "#fdca26"
             ],
             [
              1,
              "#f0f921"
             ]
            ],
            "type": "histogram2dcontour"
           }
          ],
          "mesh3d": [
           {
            "colorbar": {
             "outlinewidth": 0,
             "ticks": ""
            },
            "type": "mesh3d"
           }
          ],
          "parcoords": [
           {
            "line": {
             "colorbar": {
              "outlinewidth": 0,
              "ticks": ""
             }
            },
            "type": "parcoords"
           }
          ],
          "pie": [
           {
            "automargin": true,
            "type": "pie"
           }
          ],
          "scatter": [
           {
            "marker": {
             "colorbar": {
              "outlinewidth": 0,
              "ticks": ""
             }
            },
            "type": "scatter"
           }
          ],
          "scatter3d": [
           {
            "line": {
             "colorbar": {
              "outlinewidth": 0,
              "ticks": ""
             }
            },
            "marker": {
             "colorbar": {
              "outlinewidth": 0,
              "ticks": ""
             }
            },
            "type": "scatter3d"
           }
          ],
          "scattercarpet": [
           {
            "marker": {
             "colorbar": {
              "outlinewidth": 0,
              "ticks": ""
             }
            },
            "type": "scattercarpet"
           }
          ],
          "scattergeo": [
           {
            "marker": {
             "colorbar": {
              "outlinewidth": 0,
              "ticks": ""
             }
            },
            "type": "scattergeo"
           }
          ],
          "scattergl": [
           {
            "marker": {
             "colorbar": {
              "outlinewidth": 0,
              "ticks": ""
             }
            },
            "type": "scattergl"
           }
          ],
          "scattermapbox": [
           {
            "marker": {
             "colorbar": {
              "outlinewidth": 0,
              "ticks": ""
             }
            },
            "type": "scattermapbox"
           }
          ],
          "scatterpolar": [
           {
            "marker": {
             "colorbar": {
              "outlinewidth": 0,
              "ticks": ""
             }
            },
            "type": "scatterpolar"
           }
          ],
          "scatterpolargl": [
           {
            "marker": {
             "colorbar": {
              "outlinewidth": 0,
              "ticks": ""
             }
            },
            "type": "scatterpolargl"
           }
          ],
          "scatterternary": [
           {
            "marker": {
             "colorbar": {
              "outlinewidth": 0,
              "ticks": ""
             }
            },
            "type": "scatterternary"
           }
          ],
          "surface": [
           {
            "colorbar": {
             "outlinewidth": 0,
             "ticks": ""
            },
            "colorscale": [
             [
              0,
              "#0d0887"
             ],
             [
              0.1111111111111111,
              "#46039f"
             ],
             [
              0.2222222222222222,
              "#7201a8"
             ],
             [
              0.3333333333333333,
              "#9c179e"
             ],
             [
              0.4444444444444444,
              "#bd3786"
             ],
             [
              0.5555555555555556,
              "#d8576b"
             ],
             [
              0.6666666666666666,
              "#ed7953"
             ],
             [
              0.7777777777777778,
              "#fb9f3a"
             ],
             [
              0.8888888888888888,
              "#fdca26"
             ],
             [
              1,
              "#f0f921"
             ]
            ],
            "type": "surface"
           }
          ],
          "table": [
           {
            "cells": {
             "fill": {
              "color": "#EBF0F8"
             },
             "line": {
              "color": "white"
             }
            },
            "header": {
             "fill": {
              "color": "#C8D4E3"
             },
             "line": {
              "color": "white"
             }
            },
            "type": "table"
           }
          ]
         },
         "layout": {
          "annotationdefaults": {
           "arrowcolor": "#2a3f5f",
           "arrowhead": 0,
           "arrowwidth": 1
          },
          "autotypenumbers": "strict",
          "coloraxis": {
           "colorbar": {
            "outlinewidth": 0,
            "ticks": ""
           }
          },
          "colorscale": {
           "diverging": [
            [
             0,
             "#8e0152"
            ],
            [
             0.1,
             "#c51b7d"
            ],
            [
             0.2,
             "#de77ae"
            ],
            [
             0.3,
             "#f1b6da"
            ],
            [
             0.4,
             "#fde0ef"
            ],
            [
             0.5,
             "#f7f7f7"
            ],
            [
             0.6,
             "#e6f5d0"
            ],
            [
             0.7,
             "#b8e186"
            ],
            [
             0.8,
             "#7fbc41"
            ],
            [
             0.9,
             "#4d9221"
            ],
            [
             1,
             "#276419"
            ]
           ],
           "sequential": [
            [
             0,
             "#0d0887"
            ],
            [
             0.1111111111111111,
             "#46039f"
            ],
            [
             0.2222222222222222,
             "#7201a8"
            ],
            [
             0.3333333333333333,
             "#9c179e"
            ],
            [
             0.4444444444444444,
             "#bd3786"
            ],
            [
             0.5555555555555556,
             "#d8576b"
            ],
            [
             0.6666666666666666,
             "#ed7953"
            ],
            [
             0.7777777777777778,
             "#fb9f3a"
            ],
            [
             0.8888888888888888,
             "#fdca26"
            ],
            [
             1,
             "#f0f921"
            ]
           ],
           "sequentialminus": [
            [
             0,
             "#0d0887"
            ],
            [
             0.1111111111111111,
             "#46039f"
            ],
            [
             0.2222222222222222,
             "#7201a8"
            ],
            [
             0.3333333333333333,
             "#9c179e"
            ],
            [
             0.4444444444444444,
             "#bd3786"
            ],
            [
             0.5555555555555556,
             "#d8576b"
            ],
            [
             0.6666666666666666,
             "#ed7953"
            ],
            [
             0.7777777777777778,
             "#fb9f3a"
            ],
            [
             0.8888888888888888,
             "#fdca26"
            ],
            [
             1,
             "#f0f921"
            ]
           ]
          },
          "colorway": [
           "#636efa",
           "#EF553B",
           "#00cc96",
           "#ab63fa",
           "#FFA15A",
           "#19d3f3",
           "#FF6692",
           "#B6E880",
           "#FF97FF",
           "#FECB52"
          ],
          "font": {
           "color": "#2a3f5f"
          },
          "geo": {
           "bgcolor": "white",
           "lakecolor": "white",
           "landcolor": "#E5ECF6",
           "showlakes": true,
           "showland": true,
           "subunitcolor": "white"
          },
          "hoverlabel": {
           "align": "left"
          },
          "hovermode": "closest",
          "mapbox": {
           "style": "light"
          },
          "paper_bgcolor": "white",
          "plot_bgcolor": "#E5ECF6",
          "polar": {
           "angularaxis": {
            "gridcolor": "white",
            "linecolor": "white",
            "ticks": ""
           },
           "bgcolor": "#E5ECF6",
           "radialaxis": {
            "gridcolor": "white",
            "linecolor": "white",
            "ticks": ""
           }
          },
          "scene": {
           "xaxis": {
            "backgroundcolor": "#E5ECF6",
            "gridcolor": "white",
            "gridwidth": 2,
            "linecolor": "white",
            "showbackground": true,
            "ticks": "",
            "zerolinecolor": "white"
           },
           "yaxis": {
            "backgroundcolor": "#E5ECF6",
            "gridcolor": "white",
            "gridwidth": 2,
            "linecolor": "white",
            "showbackground": true,
            "ticks": "",
            "zerolinecolor": "white"
           },
           "zaxis": {
            "backgroundcolor": "#E5ECF6",
            "gridcolor": "white",
            "gridwidth": 2,
            "linecolor": "white",
            "showbackground": true,
            "ticks": "",
            "zerolinecolor": "white"
           }
          },
          "shapedefaults": {
           "line": {
            "color": "#2a3f5f"
           }
          },
          "ternary": {
           "aaxis": {
            "gridcolor": "white",
            "linecolor": "white",
            "ticks": ""
           },
           "baxis": {
            "gridcolor": "white",
            "linecolor": "white",
            "ticks": ""
           },
           "bgcolor": "#E5ECF6",
           "caxis": {
            "gridcolor": "white",
            "linecolor": "white",
            "ticks": ""
           }
          },
          "title": {
           "x": 0.05
          },
          "xaxis": {
           "automargin": true,
           "gridcolor": "white",
           "linecolor": "white",
           "ticks": "",
           "title": {
            "standoff": 15
           },
           "zerolinecolor": "white",
           "zerolinewidth": 2
          },
          "yaxis": {
           "automargin": true,
           "gridcolor": "white",
           "linecolor": "white",
           "ticks": "",
           "title": {
            "standoff": 15
           },
           "zerolinecolor": "white",
           "zerolinewidth": 2
          }
         }
        },
        "width": 800
       }
      },
      "text/html": [
       "<div>                            <div id=\"2ec1fcab-2053-4629-a16a-f05c42ea1264\" class=\"plotly-graph-div\" style=\"height:700px; width:800px;\"></div>            <script type=\"text/javascript\">                require([\"plotly\"], function(Plotly) {                    window.PLOTLYENV=window.PLOTLYENV || {};                                    if (document.getElementById(\"2ec1fcab-2053-4629-a16a-f05c42ea1264\")) {                    Plotly.newPlot(                        \"2ec1fcab-2053-4629-a16a-f05c42ea1264\",                        [{\"line\":{\"color\":[0,1,2,3,4,5,6,7,8,9],\"width\":2},\"marker\":{\"colorscale\":[[0.0,\"#440154\"],[0.1111111111111111,\"#482878\"],[0.2222222222222222,\"#3e4989\"],[0.3333333333333333,\"#31688e\"],[0.4444444444444444,\"#26828e\"],[0.5555555555555556,\"#1f9e89\"],[0.6666666666666666,\"#35b779\"],[0.7777777777777778,\"#6ece58\"],[0.8888888888888888,\"#b5de2b\"],[1.0,\"#fde725\"]],\"size\":4},\"x\":[0.93858668,0.98758668,1.0,1.0,0.99,0.979,0.996,0.992,0.995,0.995,0.17052647,0.17052647,0.16952647,0.16452647,0.16452647,0.16652647,0.16852647,0.15852647,0.21152647,0.21552647,-0.68281297,-0.66781297,-0.66481297,-0.65081297,-0.64581297,-0.64981297,-0.65181297,-0.65581297,-0.66381297,-0.66381297,-0.91565787,-0.91065787,-0.90565787,-0.90065787,-0.89065787,-0.88965787,-0.88465787,-0.88265787,-0.87765787,-0.86765787,-0.89167425,-0.89167425,-0.89167425,-0.88167425,-0.88967425,-0.88767425,-0.83367425,-0.78467425,-0.78167425,-0.78067425,-0.44768458,-0.42868458,-0.43768458,-0.38868458,-0.39368458,-0.33868458,-0.34868458,-0.34268458,-0.33568458,-0.34268458,-0.8203809,-0.8163809,-0.8243809,-0.7843809,-0.7293809,-0.7273809,-0.6873809,-0.6973809,-0.6953809,-0.6353809,-0.73849027,-0.73849027,-0.73849027,-0.73849027,-0.725490269,-0.73649027,-0.73449027,-0.73449027,-0.73749027,-0.74549027,0.3630809,0.3630809,0.4130809,0.4210809,0.4240809,0.4310809,0.4810809,0.4840809,0.4790809,0.4810809,0.97561298,0.98161298,0.99461298,0.99661298,0.99761298,0.98961298,0.98761298,0.98761298,0.98861298,0.98861298],\"y\":[-0.87366702,-0.82166702,-0.72166702,-0.67366702,-0.64366702,-0.61166702,-0.56066702,-0.55466702,-0.55266702,-0.55266702,0.82747373,0.82747373,0.82647373,0.83147373,0.83547373,0.83747373,0.83947373,0.78947373,0.83947373,0.84247373,0.83713567,0.88713567,0.88613567,0.93813567,0.93913567,0.94513567,0.94513567,0.95213567,0.98313567,0.98213567,0.57530175,0.57730175,0.57830175,0.58030175,0.61030175,0.61230175,0.61330175,0.61430175,0.61530175,0.66530175,0.39365653,0.39365653,0.39365653,0.44365653,0.49465653,0.49265653,0.54265653,0.59165653,0.59365653,0.59365653,0.23210006,0.28210006,0.23410006,0.28610006,0.29110006,0.34310006,0.39310006,0.39610006,0.39810006,0.34810006,-0.45365554,-0.45165554,-0.42065554,-0.34065554,-0.28865554,-0.28465554,-0.28465554,0.04534446,0.04634446,0.14634446,-0.57720244,-0.57720244,-0.57720244,-0.57720244,-0.527202445,-0.49520244,-0.49720244,-0.49620244,-0.49420244,-0.46320244,0.44500897,0.44500897,0.49500897,0.49700897,0.49800897,0.50000897,0.55000897,0.55200897,0.60300897,0.60600897,-0.62827514,-0.62527514,-0.57727514,-0.57527514,-0.57727514,-0.54627514,-0.24627514,-0.24627514,-0.24327514,-0.23927514],\"z\":[0.53316072,0.53216072,0.54216072,0.55016072,0.58316072,0.61316072,0.66416072,0.66316072,0.66516072,0.65516072,-0.3730017,-0.3730017,-0.3710017,-0.3700017,-0.3720017,-0.3732017,-0.3744017,-0.3914017,-0.3916017,-0.3906017,-0.088234,-0.038234,-0.040234,0.008766,0.008466,0.007466,0.009466,0.006466,0.036566,0.038566,0.65215425,0.65315425,0.65315425,0.65815425,0.68815425,0.68715425,0.68915425,0.69315425,0.69315425,0.70315425,0.18789257,0.18789257,0.18789257,0.19789257,0.18799257,0.18949257,0.18959257,0.18859257,0.18859257,0.18739257,-0.64425156,-0.59415156,-0.61515156,-0.61615156,-0.61515156,-0.61515156,-0.62215156,-0.62115156,-0.62125156,-0.64145156,-0.45467231,-0.45467231,-0.42457231,-0.39457231,-0.39457231,-0.39457231,-0.41457231,-0.08457231,-0.08057231,-0.07057231,-0.04904892,-0.04904892,-0.04904892,-0.04904892,-4.89239468e-05,0.02995108,0.02945108,0.02745108,0.02645108,0.05655108,-0.47442784,-0.47442784,-0.47442784,-0.47462784,-0.47562784,-0.47372784,-0.47072784,-0.46872784,-0.47672784,-0.47472784,0.84946967,0.85246967,0.90046967,0.89926967,0.89706967,0.92716967,1.0,1.0,1.0,0.998],\"type\":\"scatter3d\"}],                        {\"template\":{\"data\":{\"bar\":[{\"error_x\":{\"color\":\"#2a3f5f\"},\"error_y\":{\"color\":\"#2a3f5f\"},\"marker\":{\"line\":{\"color\":\"#E5ECF6\",\"width\":0.5},\"pattern\":{\"fillmode\":\"overlay\",\"size\":10,\"solidity\":0.2}},\"type\":\"bar\"}],\"barpolar\":[{\"marker\":{\"line\":{\"color\":\"#E5ECF6\",\"width\":0.5},\"pattern\":{\"fillmode\":\"overlay\",\"size\":10,\"solidity\":0.2}},\"type\":\"barpolar\"}],\"carpet\":[{\"aaxis\":{\"endlinecolor\":\"#2a3f5f\",\"gridcolor\":\"white\",\"linecolor\":\"white\",\"minorgridcolor\":\"white\",\"startlinecolor\":\"#2a3f5f\"},\"baxis\":{\"endlinecolor\":\"#2a3f5f\",\"gridcolor\":\"white\",\"linecolor\":\"white\",\"minorgridcolor\":\"white\",\"startlinecolor\":\"#2a3f5f\"},\"type\":\"carpet\"}],\"choropleth\":[{\"colorbar\":{\"outlinewidth\":0,\"ticks\":\"\"},\"type\":\"choropleth\"}],\"contour\":[{\"colorbar\":{\"outlinewidth\":0,\"ticks\":\"\"},\"colorscale\":[[0.0,\"#0d0887\"],[0.1111111111111111,\"#46039f\"],[0.2222222222222222,\"#7201a8\"],[0.3333333333333333,\"#9c179e\"],[0.4444444444444444,\"#bd3786\"],[0.5555555555555556,\"#d8576b\"],[0.6666666666666666,\"#ed7953\"],[0.7777777777777778,\"#fb9f3a\"],[0.8888888888888888,\"#fdca26\"],[1.0,\"#f0f921\"]],\"type\":\"contour\"}],\"contourcarpet\":[{\"colorbar\":{\"outlinewidth\":0,\"ticks\":\"\"},\"type\":\"contourcarpet\"}],\"heatmap\":[{\"colorbar\":{\"outlinewidth\":0,\"ticks\":\"\"},\"colorscale\":[[0.0,\"#0d0887\"],[0.1111111111111111,\"#46039f\"],[0.2222222222222222,\"#7201a8\"],[0.3333333333333333,\"#9c179e\"],[0.4444444444444444,\"#bd3786\"],[0.5555555555555556,\"#d8576b\"],[0.6666666666666666,\"#ed7953\"],[0.7777777777777778,\"#fb9f3a\"],[0.8888888888888888,\"#fdca26\"],[1.0,\"#f0f921\"]],\"type\":\"heatmap\"}],\"heatmapgl\":[{\"colorbar\":{\"outlinewidth\":0,\"ticks\":\"\"},\"colorscale\":[[0.0,\"#0d0887\"],[0.1111111111111111,\"#46039f\"],[0.2222222222222222,\"#7201a8\"],[0.3333333333333333,\"#9c179e\"],[0.4444444444444444,\"#bd3786\"],[0.5555555555555556,\"#d8576b\"],[0.6666666666666666,\"#ed7953\"],[0.7777777777777778,\"#fb9f3a\"],[0.8888888888888888,\"#fdca26\"],[1.0,\"#f0f921\"]],\"type\":\"heatmapgl\"}],\"histogram\":[{\"marker\":{\"pattern\":{\"fillmode\":\"overlay\",\"size\":10,\"solidity\":0.2}},\"type\":\"histogram\"}],\"histogram2d\":[{\"colorbar\":{\"outlinewidth\":0,\"ticks\":\"\"},\"colorscale\":[[0.0,\"#0d0887\"],[0.1111111111111111,\"#46039f\"],[0.2222222222222222,\"#7201a8\"],[0.3333333333333333,\"#9c179e\"],[0.4444444444444444,\"#bd3786\"],[0.5555555555555556,\"#d8576b\"],[0.6666666666666666,\"#ed7953\"],[0.7777777777777778,\"#fb9f3a\"],[0.8888888888888888,\"#fdca26\"],[1.0,\"#f0f921\"]],\"type\":\"histogram2d\"}],\"histogram2dcontour\":[{\"colorbar\":{\"outlinewidth\":0,\"ticks\":\"\"},\"colorscale\":[[0.0,\"#0d0887\"],[0.1111111111111111,\"#46039f\"],[0.2222222222222222,\"#7201a8\"],[0.3333333333333333,\"#9c179e\"],[0.4444444444444444,\"#bd3786\"],[0.5555555555555556,\"#d8576b\"],[0.6666666666666666,\"#ed7953\"],[0.7777777777777778,\"#fb9f3a\"],[0.8888888888888888,\"#fdca26\"],[1.0,\"#f0f921\"]],\"type\":\"histogram2dcontour\"}],\"mesh3d\":[{\"colorbar\":{\"outlinewidth\":0,\"ticks\":\"\"},\"type\":\"mesh3d\"}],\"parcoords\":[{\"line\":{\"colorbar\":{\"outlinewidth\":0,\"ticks\":\"\"}},\"type\":\"parcoords\"}],\"pie\":[{\"automargin\":true,\"type\":\"pie\"}],\"scatter\":[{\"marker\":{\"colorbar\":{\"outlinewidth\":0,\"ticks\":\"\"}},\"type\":\"scatter\"}],\"scatter3d\":[{\"line\":{\"colorbar\":{\"outlinewidth\":0,\"ticks\":\"\"}},\"marker\":{\"colorbar\":{\"outlinewidth\":0,\"ticks\":\"\"}},\"type\":\"scatter3d\"}],\"scattercarpet\":[{\"marker\":{\"colorbar\":{\"outlinewidth\":0,\"ticks\":\"\"}},\"type\":\"scattercarpet\"}],\"scattergeo\":[{\"marker\":{\"colorbar\":{\"outlinewidth\":0,\"ticks\":\"\"}},\"type\":\"scattergeo\"}],\"scattergl\":[{\"marker\":{\"colorbar\":{\"outlinewidth\":0,\"ticks\":\"\"}},\"type\":\"scattergl\"}],\"scattermapbox\":[{\"marker\":{\"colorbar\":{\"outlinewidth\":0,\"ticks\":\"\"}},\"type\":\"scattermapbox\"}],\"scatterpolar\":[{\"marker\":{\"colorbar\":{\"outlinewidth\":0,\"ticks\":\"\"}},\"type\":\"scatterpolar\"}],\"scatterpolargl\":[{\"marker\":{\"colorbar\":{\"outlinewidth\":0,\"ticks\":\"\"}},\"type\":\"scatterpolargl\"}],\"scatterternary\":[{\"marker\":{\"colorbar\":{\"outlinewidth\":0,\"ticks\":\"\"}},\"type\":\"scatterternary\"}],\"surface\":[{\"colorbar\":{\"outlinewidth\":0,\"ticks\":\"\"},\"colorscale\":[[0.0,\"#0d0887\"],[0.1111111111111111,\"#46039f\"],[0.2222222222222222,\"#7201a8\"],[0.3333333333333333,\"#9c179e\"],[0.4444444444444444,\"#bd3786\"],[0.5555555555555556,\"#d8576b\"],[0.6666666666666666,\"#ed7953\"],[0.7777777777777778,\"#fb9f3a\"],[0.8888888888888888,\"#fdca26\"],[1.0,\"#f0f921\"]],\"type\":\"surface\"}],\"table\":[{\"cells\":{\"fill\":{\"color\":\"#EBF0F8\"},\"line\":{\"color\":\"white\"}},\"header\":{\"fill\":{\"color\":\"#C8D4E3\"},\"line\":{\"color\":\"white\"}},\"type\":\"table\"}]},\"layout\":{\"annotationdefaults\":{\"arrowcolor\":\"#2a3f5f\",\"arrowhead\":0,\"arrowwidth\":1},\"autotypenumbers\":\"strict\",\"coloraxis\":{\"colorbar\":{\"outlinewidth\":0,\"ticks\":\"\"}},\"colorscale\":{\"diverging\":[[0,\"#8e0152\"],[0.1,\"#c51b7d\"],[0.2,\"#de77ae\"],[0.3,\"#f1b6da\"],[0.4,\"#fde0ef\"],[0.5,\"#f7f7f7\"],[0.6,\"#e6f5d0\"],[0.7,\"#b8e186\"],[0.8,\"#7fbc41\"],[0.9,\"#4d9221\"],[1,\"#276419\"]],\"sequential\":[[0.0,\"#0d0887\"],[0.1111111111111111,\"#46039f\"],[0.2222222222222222,\"#7201a8\"],[0.3333333333333333,\"#9c179e\"],[0.4444444444444444,\"#bd3786\"],[0.5555555555555556,\"#d8576b\"],[0.6666666666666666,\"#ed7953\"],[0.7777777777777778,\"#fb9f3a\"],[0.8888888888888888,\"#fdca26\"],[1.0,\"#f0f921\"]],\"sequentialminus\":[[0.0,\"#0d0887\"],[0.1111111111111111,\"#46039f\"],[0.2222222222222222,\"#7201a8\"],[0.3333333333333333,\"#9c179e\"],[0.4444444444444444,\"#bd3786\"],[0.5555555555555556,\"#d8576b\"],[0.6666666666666666,\"#ed7953\"],[0.7777777777777778,\"#fb9f3a\"],[0.8888888888888888,\"#fdca26\"],[1.0,\"#f0f921\"]]},\"colorway\":[\"#636efa\",\"#EF553B\",\"#00cc96\",\"#ab63fa\",\"#FFA15A\",\"#19d3f3\",\"#FF6692\",\"#B6E880\",\"#FF97FF\",\"#FECB52\"],\"font\":{\"color\":\"#2a3f5f\"},\"geo\":{\"bgcolor\":\"white\",\"lakecolor\":\"white\",\"landcolor\":\"#E5ECF6\",\"showlakes\":true,\"showland\":true,\"subunitcolor\":\"white\"},\"hoverlabel\":{\"align\":\"left\"},\"hovermode\":\"closest\",\"mapbox\":{\"style\":\"light\"},\"paper_bgcolor\":\"white\",\"plot_bgcolor\":\"#E5ECF6\",\"polar\":{\"angularaxis\":{\"gridcolor\":\"white\",\"linecolor\":\"white\",\"ticks\":\"\"},\"bgcolor\":\"#E5ECF6\",\"radialaxis\":{\"gridcolor\":\"white\",\"linecolor\":\"white\",\"ticks\":\"\"}},\"scene\":{\"xaxis\":{\"backgroundcolor\":\"#E5ECF6\",\"gridcolor\":\"white\",\"gridwidth\":2,\"linecolor\":\"white\",\"showbackground\":true,\"ticks\":\"\",\"zerolinecolor\":\"white\"},\"yaxis\":{\"backgroundcolor\":\"#E5ECF6\",\"gridcolor\":\"white\",\"gridwidth\":2,\"linecolor\":\"white\",\"showbackground\":true,\"ticks\":\"\",\"zerolinecolor\":\"white\"},\"zaxis\":{\"backgroundcolor\":\"#E5ECF6\",\"gridcolor\":\"white\",\"gridwidth\":2,\"linecolor\":\"white\",\"showbackground\":true,\"ticks\":\"\",\"zerolinecolor\":\"white\"}},\"shapedefaults\":{\"line\":{\"color\":\"#2a3f5f\"}},\"ternary\":{\"aaxis\":{\"gridcolor\":\"white\",\"linecolor\":\"white\",\"ticks\":\"\"},\"baxis\":{\"gridcolor\":\"white\",\"linecolor\":\"white\",\"ticks\":\"\"},\"bgcolor\":\"#E5ECF6\",\"caxis\":{\"gridcolor\":\"white\",\"linecolor\":\"white\",\"ticks\":\"\"}},\"title\":{\"x\":0.05},\"xaxis\":{\"automargin\":true,\"gridcolor\":\"white\",\"linecolor\":\"white\",\"ticks\":\"\",\"title\":{\"standoff\":15},\"zerolinecolor\":\"white\",\"zerolinewidth\":2},\"yaxis\":{\"automargin\":true,\"gridcolor\":\"white\",\"linecolor\":\"white\",\"ticks\":\"\",\"title\":{\"standoff\":15},\"zerolinecolor\":\"white\",\"zerolinewidth\":2}}},\"scene\":{\"xaxis\":{\"title\":{\"text\":\"Pleasure\"},\"nticks\":4,\"range\":[-1,1]},\"yaxis\":{\"title\":{\"text\":\"Arousal\"},\"nticks\":4,\"range\":[-1,1]},\"zaxis\":{\"title\":{\"text\":\"Dominance\"},\"nticks\":4,\"range\":[-1,1]},\"camera\":{\"up\":{\"x\":0,\"y\":0,\"z\":1},\"eye\":{\"x\":0,\"y\":1.0707,\"z\":1}},\"aspectratio\":{\"x\":1,\"y\":1,\"z\":0.7},\"aspectmode\":\"manual\"},\"width\":800,\"height\":700,\"autosize\":false},                        {\"responsive\": true}                    ).then(function(){\n",
       "                            \n",
       "var gd = document.getElementById('2ec1fcab-2053-4629-a16a-f05c42ea1264');\n",
       "var x = new MutationObserver(function (mutations, observer) {{\n",
       "        var display = window.getComputedStyle(gd).display;\n",
       "        if (!display || display === 'none') {{\n",
       "            console.log([gd, 'removed!']);\n",
       "            Plotly.purge(gd);\n",
       "            observer.disconnect();\n",
       "        }}\n",
       "}});\n",
       "\n",
       "// Listen for the removal of the full notebook cells\n",
       "var notebookContainer = gd.closest('#notebook-container');\n",
       "if (notebookContainer) {{\n",
       "    x.observe(notebookContainer, {childList: true});\n",
       "}}\n",
       "\n",
       "// Listen for the clearing of the current output cell\n",
       "var outputEl = gd.closest('.output');\n",
       "if (outputEl) {{\n",
       "    x.observe(outputEl, {childList: true});\n",
       "}}\n",
       "\n",
       "                        })                };                });            </script>        </div>"
      ]
     },
     "metadata": {},
     "output_type": "display_data"
    }
   ],
   "source": [
    "def plot_3D_positions(positions):\n",
    "    x, y, z = positions\n",
    "    index = np.array([x for x in range(10)])\n",
    "\n",
    "    fig = go.Figure(data=[go.Scatter3d(\n",
    "        x=x, y=y, z=z,\n",
    "        marker=dict(\n",
    "            size=4,\n",
    "            colorscale='Viridis',\n",
    "        ),\n",
    "        line=dict(\n",
    "            color=index,\n",
    "            width=2\n",
    "        ))])\n",
    "\n",
    "    fig.update_layout(\n",
    "        width=800,\n",
    "        height=700,\n",
    "        autosize=False,\n",
    "        scene=dict(\n",
    "            xaxis_title=\"Pleasure\",\n",
    "            yaxis_title=\"Arousal\",\n",
    "            zaxis_title=\"Dominance\",\n",
    "            xaxis = dict(nticks=4, range=[-1,1],),\n",
    "            yaxis = dict(nticks=4, range=[-1,1],),\n",
    "            zaxis = dict(nticks=4, range=[-1,1],),\n",
    "            camera=dict(\n",
    "                up=dict(\n",
    "                    x=0,\n",
    "                    y=0,\n",
    "                    z=1\n",
    "                ),\n",
    "                eye=dict(\n",
    "                    x=0,\n",
    "                    y=1.0707,\n",
    "                    z=1,\n",
    "                )\n",
    "            ),\n",
    "            aspectratio = dict( x=1, y=1, z=0.7 ),\n",
    "            aspectmode = 'manual'\n",
    "        ),\n",
    "    )\n",
    "    \n",
    "    return fig\n",
    "\n",
    "# person_list = set(person_list)\n",
    "# for x in person_list:\n",
    "#     print(x)\n",
    "x= next(iter(person_list))\n",
    "filepath = \"personlogs/\" + x + \"_testing.csv\"\n",
    "individualinfo = pd.DataFrame(pd.read_csv((filepath)))\n",
    "indiactioninfo = pd.DataFrame(individualinfo.loc[individualinfo['person_before_action_name'] == x])\n",
    "indi_action_history = indiactioninfo.loc[:,'person_after_action_emotional_state']\n",
    "\n",
    "pleasure_scale = []\n",
    "arousal_scale = []\n",
    "dominance_scale = []\n",
    "for item in indi_action_history:\n",
    "    split_item = item[1:-1].split(\" \")\n",
    "    split_item = list(filter(None, split_item))\n",
    "    pleasure_scale.append(float(split_item[0]))\n",
    "    arousal_scale.append(float(split_item[1])) \n",
    "    dominance_scale.append(float(split_item[2])) \n",
    "\n",
    "emotional_positions = np.vstack((pleasure_scale,arousal_scale,dominance_scale))\n",
    "print(emotional_positions)\n",
    "plot_3D_positions(emotional_positions)\n",
    "#break\n"
   ]
  },
  {
   "cell_type": "code",
   "execution_count": 86,
   "id": "72f6c63c",
   "metadata": {},
   "outputs": [
    {
     "ename": "SyntaxError",
     "evalue": "'break' outside loop (Temp/ipykernel_26340/3658230954.py, line 23)",
     "output_type": "error",
     "traceback": [
      "\u001b[1;36m  File \u001b[1;32m\"C:\\Users\\rules\\AppData\\Local\\Temp/ipykernel_26340/3658230954.py\"\u001b[1;36m, line \u001b[1;32m23\u001b[0m\n\u001b[1;33m    break\u001b[0m\n\u001b[1;37m    ^\u001b[0m\n\u001b[1;31mSyntaxError\u001b[0m\u001b[1;31m:\u001b[0m 'break' outside loop\n"
     ]
    }
   ],
   "source": []
  },
  {
   "cell_type": "code",
   "execution_count": null,
   "id": "8cf21ac4",
   "metadata": {},
   "outputs": [],
   "source": []
  }
 ],
 "metadata": {
  "kernelspec": {
   "display_name": "Python 3 (ipykernel)",
   "language": "python",
   "name": "python3"
  },
  "language_info": {
   "codemirror_mode": {
    "name": "ipython",
    "version": 3
   },
   "file_extension": ".py",
   "mimetype": "text/x-python",
   "name": "python",
   "nbconvert_exporter": "python",
   "pygments_lexer": "ipython3",
   "version": "3.9.7"
  }
 },
 "nbformat": 4,
 "nbformat_minor": 5
}
