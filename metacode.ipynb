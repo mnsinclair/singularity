{
 "cells": [
  {
   "cell_type": "code",
   "execution_count": 1,
   "metadata": {},
   "outputs": [],
   "source": [
    "from room import Room\n",
    "from person import Person\n",
    "from action import Action\n",
    "import metacode_helpers"
   ]
  },
  {
   "cell_type": "code",
   "execution_count": 2,
   "metadata": {},
   "outputs": [],
   "source": [
    "import pandas as pd\n",
    "import numpy as np"
   ]
  },
  {
   "cell_type": "code",
   "execution_count": 3,
   "metadata": {},
   "outputs": [],
   "source": [
    "# initialise all actions\n",
    "ALL_POSSIBLE_ACTIONS = metacode_helpers.initialise_all_actions()\n",
    "ALL_CONVERSATION_ACTIONS = [action for action in ALL_POSSIBLE_ACTIONS if action.get_action_type() == \"conversation\"]\n",
    "ALL_ROOM_ACTIONS = [action for action in ALL_POSSIBLE_ACTIONS if action.get_action_type() == \"room\"] "
   ]
  },
  {
   "cell_type": "code",
   "execution_count": 4,
   "metadata": {},
   "outputs": [],
   "source": [
    "# Create some rooms\n",
    "HALL = Room(\"Hall\")\n",
    "KITCHEN = Room(\"Kitchen\")\n",
    "LOUNGE = Room(\"Lounge\")\n",
    "\n",
    "# Add adjacencies to the rooms (HALL is adjacent to KITCHEN and LOUNGE)\n",
    "HALL.add_adjacent_room(KITCHEN)\n",
    "HALL.add_adjacent_room(LOUNGE)\n",
    "\n",
    "# Assign the Hall to be the entry to the house\n",
    "HOUSE_ENTRY_ROOM = HALL \n",
    "\n",
    "ROOMS = [HALL, KITCHEN, LOUNGE]"
   ]
  },
  {
   "cell_type": "code",
   "execution_count": 5,
   "metadata": {},
   "outputs": [],
   "source": [
    "from itertools import combinations\n",
    "\n",
    "names = metacode_helpers.get_names(num_names=32)\n",
    "np.random.seed(42)\n",
    "ALL_PEOPLE = []\n",
    "for personality_number in range(4):\n",
    "    personality_vector = np.random.uniform(low = -1, high = 1, size = 5)\n",
    "    initial_emotional_state_vector = np.random.uniform(low = -1, high = 1, size = 3)\n",
    "    initial_location_state = np.random.choice(ROOMS)\n",
    "    new_person = Person(name = names[personality_number], location_state=initial_location_state, all_possible_actions=ALL_POSSIBLE_ACTIONS, personality_vector=personality_vector, emotional_state_vector=initial_emotional_state_vector, conversation_partner=None)\n",
    "    ALL_PEOPLE.append(new_person)"
   ]
  },
  {
   "cell_type": "code",
   "execution_count": 6,
   "metadata": {},
   "outputs": [
    {
     "data": {
      "text/plain": [
       "[Robin, Patrick, Ronnie, Jacquelyn]"
      ]
     },
     "execution_count": 6,
     "metadata": {},
     "output_type": "execute_result"
    }
   ],
   "source": [
    "ALL_PEOPLE"
   ]
  },
  {
   "cell_type": "code",
   "execution_count": 7,
   "metadata": {},
   "outputs": [
    {
     "data": {
      "text/plain": [
       "array([shouts, shares, leaves_conversation, makes_smalltalk,\n",
       "       makes_deeptalk, gives_controversial_opinion, changes_the_topic,\n",
       "       shows_interest, shows_concern, laughs, jokes, gives_an_insult,\n",
       "       brags, yawns, supports, rants, stands_in_corner, leaves_room,\n",
       "       starts_conversation], dtype=object)"
      ]
     },
     "execution_count": 7,
     "metadata": {},
     "output_type": "execute_result"
    }
   ],
   "source": [
    "ALL_POSSIBLE_ACTIONS"
   ]
  },
  {
   "cell_type": "code",
   "execution_count": 8,
   "metadata": {},
   "outputs": [
    {
     "name": "stdout",
     "output_type": "stream",
     "text": [
      "Robin\n"
     ]
    }
   ],
   "source": [
    "from collections import defaultdict\n",
    "\n",
    "log = defaultdict(list)\n",
    "\n",
    "for person in ALL_PEOPLE:\n",
    "    print(person.get_name())\n",
    "    log[\"person_before_action\"].append(person.get_snapshot())\n",
    "    if person.has_conversation_partner():\n",
    "        log[\"conversation_partner_before_action\"].append(person.get_conversation_partner().get_snapshot())\n",
    "\n",
    "    # The person can start a conversation only if there's someone free to chat in their current room.\n",
    "    available_room_act = ALL_ROOM_ACTIONS if person.get_location_state().is_someone_free_to_chat() else [action for action in ALL_ROOM_ACTIONS if action.get_name() != \"starts_conversation\"]\n",
    "\n",
    "    # If in a conversation, the person can leave at any time.\n",
    "    action = person.action_selection(available_conv_act=ALL_CONVERSATION_ACTIONS) if person.has_conversation_partner() else person.action_selection(available_room_act=available_room_act)\n",
    "    \n",
    "    # If in a conversation, update the person & conversation partner's emotional state according to the action\n",
    "    if person.has_conversation_partner():\n",
    "        # Change this person's emotional state by the GIVEN action emotional change vector\n",
    "        person.set_emotional_state_vector(person.get_emotional_state_vector() + action.get_given_emotional_change_vector())\n",
    "        # Change this person's conversation partner's emotional state by the RECEIVED action emotional change vector\n",
    "        partner = person.get_conversation_partner()\n",
    "        partner.set_emotional_state_vector(partner.get_emotional_state_vector() + action.get_received_emotional_change_vector())\n",
    "\n",
    "        if action.get_name() == \"leaves_conversation\":\n",
    "            # The conversation has ended, so both people now don't have conversation partners.\n",
    "            person.set_conversation_partner(None)\n",
    "            partner.set_conversation_partner(None)\n",
    "            \n",
    "    else: # Otherwise, deal with the room action\n",
    "        if action.get_name() == \"leaves_room\":\n",
    "            next_room = person.get_next_room()\n",
    "            person.move_to_room(next_room)          \n",
    "        if action.get_name() == \"starts_conversation\":\n",
    "            # NOTE whether this is possible is handles by the action selection function\n",
    "            # Find a person in the room who is free to chat\n",
    "            partner = person.get_location_state().get_conversation_partner()\n",
    "            person.set_conversation_partner(partner)\n",
    "            partner.set_conversation_partner(person)\n",
    "    break\n",
    "    \n",
    "    # log[\"action\"] = action.get_snapshot()\n",
    "    # log[\"person_after_action\"] = person.get_snapshot()\n",
    "    # log[\"conversation_partner_after_action\"] = person.conversation_partner.get_snapshot()"
   ]
  },
  {
   "cell_type": "code",
   "execution_count": 9,
   "metadata": {},
   "outputs": [
    {
     "data": {
      "text/plain": [
       "defaultdict(list,\n",
       "            {'person_before_action': [{'name': 'Robin',\n",
       "               'personality_vector': array([-0.25091976,  0.90142861,  0.46398788,  0.19731697, -0.68796272]),\n",
       "               'emotional_state': array([-0.68801096, -0.88383278,  0.73235229]),\n",
       "               'base_action_probs': {shouts: 0.07655987180318331,\n",
       "                shares: 0.05214043044055023,\n",
       "                leaves_conversation: 0.03229397311430043,\n",
       "                makes_smalltalk: 0.05919391175178308,\n",
       "                makes_deeptalk: 0.04895843300031232,\n",
       "                gives_controversial_opinion: 0.03298589065217231,\n",
       "                changes_the_topic: 0.03315694789892485,\n",
       "                shows_interest: 0.045303135962283525,\n",
       "                shows_concern: 0.04075600911988259,\n",
       "                laughs: 0.07877462827221966,\n",
       "                jokes: 0.0632321916336573,\n",
       "                gives_an_insult: 0.03764411188021633,\n",
       "                brags: 0.07655987180318331,\n",
       "                yawns: 0.06892185772365128,\n",
       "                supports: 0.057785780495236964,\n",
       "                rants: 0.049806002598201705,\n",
       "                stands_in_corner: 0.03229397311430043,\n",
       "                leaves_room: 0.050400787102283094,\n",
       "                starts_conversation: 0.0632321916336573},\n",
       "               'location_state': 'Lounge',\n",
       "               'conversation_partner': None}]})"
      ]
     },
     "execution_count": 9,
     "metadata": {},
     "output_type": "execute_result"
    }
   ],
   "source": [
    "log"
   ]
  },
  {
   "cell_type": "code",
   "execution_count": null,
   "metadata": {},
   "outputs": [],
   "source": []
  }
 ],
 "metadata": {
  "interpreter": {
   "hash": "96f352cf01d3802b6acc114712a02e790c03380b75af7cacec27d6fea5a22790"
  },
  "kernelspec": {
   "display_name": "Python 3.9.7 ('CS773')",
   "language": "python",
   "name": "python3"
  },
  "language_info": {
   "codemirror_mode": {
    "name": "ipython",
    "version": 3
   },
   "file_extension": ".py",
   "mimetype": "text/x-python",
   "name": "python",
   "nbconvert_exporter": "python",
   "pygments_lexer": "ipython3",
   "version": "3.9.7"
  },
  "orig_nbformat": 4
 },
 "nbformat": 4,
 "nbformat_minor": 2
}
