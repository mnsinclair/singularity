{
 "cells": [
  {
   "cell_type": "code",
   "execution_count": 1,
   "metadata": {},
   "outputs": [],
   "source": [
    "from room import Room\n",
    "from person import Person\n",
    "from action import Action\n",
    "import metacode_helpers"
   ]
  },
  {
   "cell_type": "code",
   "execution_count": 2,
   "metadata": {},
   "outputs": [],
   "source": [
    "import pandas as pd\n",
    "import numpy as np"
   ]
  },
  {
   "cell_type": "code",
   "execution_count": 3,
   "metadata": {},
   "outputs": [],
   "source": [
    "# initialise all actions\n",
    "ALL_POSSIBLE_ACTIONS = metacode_helpers.initialise_all_actions()\n",
    "ALL_CONVERSATION_ACTIONS = [action for action in ALL_POSSIBLE_ACTIONS if action.get_action_type() == \"conversation\"]\n",
    "ALL_ROOM_ACTIONS = [action for action in ALL_POSSIBLE_ACTIONS if action.get_action_type() == \"room\"] "
   ]
  },
  {
   "cell_type": "code",
   "execution_count": 4,
   "metadata": {},
   "outputs": [],
   "source": [
    "# Create some rooms\n",
    "HALL = Room(\"Hall\")\n",
    "KITCHEN = Room(\"Kitchen\")\n",
    "LOUNGE = Room(\"Lounge\")\n",
    "\n",
    "# Add adjacencies to the rooms (HALL is adjacent to KITCHEN and LOUNGE)\n",
    "HALL.add_adjacent_room(KITCHEN)\n",
    "HALL.add_adjacent_room(LOUNGE)\n",
    "\n",
    "# Assign the Hall to be the entry to the house\n",
    "HOUSE_ENTRY_ROOM = HALL \n",
    "\n",
    "ROOMS = [HALL, KITCHEN, LOUNGE]"
   ]
  },
  {
   "cell_type": "code",
   "execution_count": 5,
   "metadata": {},
   "outputs": [
    {
     "data": {
      "text/plain": [
       "array([shouts, shares, leaves_conversation, makes_smalltalk,\n",
       "       makes_deeptalk, gives_controversial_opinion, changes_the_topic,\n",
       "       shows_interest, shows_concern, laughs, jokes, gives_an_insult,\n",
       "       brags, yawns, supports, rants, stands_in_corner, leaves_room,\n",
       "       starts_conversation], dtype=object)"
      ]
     },
     "execution_count": 5,
     "metadata": {},
     "output_type": "execute_result"
    }
   ],
   "source": [
    "ALL_POSSIBLE_ACTIONS"
   ]
  },
  {
   "cell_type": "code",
   "execution_count": 6,
   "metadata": {},
   "outputs": [],
   "source": [
    "from collections import defaultdict\n",
    "\n",
    "num_runs, num_rounds, num_people = 10, 10, 32\n",
    "\n",
    "\n",
    "action_log = defaultdict(list)\n",
    "person_before_action_log = defaultdict(list)\n",
    "person_after_action_log = defaultdict(list)\n",
    "partner_before_action_log = defaultdict(list)\n",
    "partner_after_action_log = defaultdict(list)\n",
    "\n",
    "def log_snapshot(log, snapshot, run_number, round_number, turn_number, prefix=\"\"):\n",
    "    log[\"run_number\"].append(run_number)\n",
    "    log[\"round_number\"].append(round_number)\n",
    "    log[\"turn_number\"].append(turn_number)\n",
    "    for key, val in snapshot.items():\n",
    "        log[prefix + \"_\" + key].append(val)\n",
    "\n",
    "for run_number in range(num_runs):\n",
    "    all_people = metacode_helpers.initialise_all_people(all_possible_actions = ALL_POSSIBLE_ACTIONS, num_people=num_people, rooms=ROOMS)\n",
    "    turn_number = 0\n",
    "    for round_number in range(num_rounds):\n",
    "        for person in all_people:\n",
    "            partner = person.get_conversation_partner()\n",
    "            log_snapshot(person_before_action_log, person.get_snapshot(), run_number, round_number, turn_number, \"person_before_action\")\n",
    "            if person.has_conversation_partner():\n",
    "                log_snapshot(partner_before_action_log, person.get_conversation_partner().get_snapshot(), run_number, round_number, turn_number, \"partner_before_action\")\n",
    "\n",
    "            # The person can start a conversation only if there's someone free to chat in their current room.\n",
    "            available_room_act = ALL_ROOM_ACTIONS if person.get_location_state().is_someone_free_to_chat(person) else [action for action in ALL_ROOM_ACTIONS if action.get_name() != \"starts_conversation\"]\n",
    "            #print(available_room_act, \"free?\", person.get_location_state().is_someone_free_to_chat(person))\n",
    "            # If in a conversation, the person can select any action, including leaving.\n",
    "            action = person.action_selection(available_conv_act=ALL_CONVERSATION_ACTIONS) if person.has_conversation_partner() else person.action_selection(available_room_act=available_room_act)\n",
    "            \n",
    "            # If in a conversation, update the person & conversation partner's emotional state according to the action\n",
    "            if person.has_conversation_partner():\n",
    "                # Change this person's emotional state \n",
    "                person.update_emotional_state_vector(action, isOwnAction = True)\n",
    "                # Change the partner's emotional state \n",
    "                partner.update_emotional_state_vector(action, isOwnAction = False)\n",
    "\n",
    "                if action.get_name() == \"leaves_conversation\":\n",
    "                    # The conversation has ended, so both people now don't have conversation partners.\n",
    "                    person.set_conversation_partner(None)\n",
    "                    partner.set_conversation_partner(None)\n",
    "                    \n",
    "                    \n",
    "            else: # Otherwise, deal with the room action\n",
    "                if action.get_name() == \"leaves_room\":\n",
    "                    next_room = person.get_next_room()\n",
    "                    person.move_to_room(next_room)          \n",
    "                if action.get_name() == \"starts_conversation\":\n",
    "                    # NOTE whether this is possible is handled by the action selection function\n",
    "                    # Find a person in the room who is free to chat\n",
    "                    current_room = person.get_location_state()\n",
    "                    partner = current_room.get_new_conversation_partner_for(person)\n",
    "                    person.set_conversation_partner(partner)\n",
    "                    partner.set_conversation_partner(person)\n",
    "            \n",
    "            log_snapshot(action_log, action.get_snapshot(), run_number, round_number, turn_number)    \n",
    "            log_snapshot(person_after_action_log, person.get_snapshot(), run_number, round_number, turn_number, \"person_after_action\")\n",
    "            if partner:\n",
    "                log_snapshot(partner_after_action_log, partner.get_snapshot(), run_number, round_number, turn_number, \"partner_after_action\")\n",
    "\n",
    "            message = person.get_name(), ' '.join(action.get_name().split(\"_\"))\n",
    "            #print(round_number)\n",
    "            #print(turn_number)\n",
    "            #if partner:\n",
    "                #print(message, 'To:', partner.get_name())\n",
    "            #else:\n",
    "                #print(message)\n",
    "            turn_number += 1"
   ]
  },
  {
   "cell_type": "code",
   "execution_count": 7,
   "metadata": {},
   "outputs": [],
   "source": [
    "action_log_df = pd.DataFrame(action_log)\n",
    "person_before_action_log_df = pd.DataFrame(person_before_action_log)\n",
    "person_after_action_log_df = pd.DataFrame(person_after_action_log)\n",
    "partner_before_action_log_df = pd.DataFrame(partner_before_action_log)\n",
    "partner_after_action_log_df = pd.DataFrame(partner_after_action_log)\n",
    "\n",
    "\n",
    "#Write to CSV files\n",
    "action_log_df.to_csv('logs/action.csv')\n",
    "person_before_action_log_df.to_csv('logs/personbefore.csv')\n",
    "person_after_action_log_df.to_csv('logs/personafter.csv')\n",
    "partner_before_action_log_df.to_csv('logs/partnerbefore.csv')\n",
    "partner_after_action_log_df.to_csv('logs/partnerafter.csv')"
   ]
  },
  {
   "cell_type": "code",
   "execution_count": 8,
   "metadata": {},
   "outputs": [],
   "source": [
    "all = pd.merge(action_log_df, person_before_action_log_df, on=['run_number', 'round_number', 'turn_number'], how=\"outer\")\n",
    "all = pd.merge(all, person_after_action_log_df, on=['run_number', 'round_number', 'turn_number'], how=\"outer\")\n",
    "all = pd.merge(all, partner_before_action_log_df, on=['run_number', 'round_number', 'turn_number'], how=\"outer\")\n",
    "all = pd.merge(all, partner_after_action_log_df, on=['run_number', 'round_number', 'turn_number'], how=\"outer\")\n",
    "all.to_csv(\"logs/all_together.csv\")"
   ]
  }
 ],
 "metadata": {
  "interpreter": {
   "hash": "96f352cf01d3802b6acc114712a02e790c03380b75af7cacec27d6fea5a22790"
  },
  "kernelspec": {
   "display_name": "Python 3 (ipykernel)",
   "language": "python",
   "name": "python3"
  },
  "language_info": {
   "codemirror_mode": {
    "name": "ipython",
    "version": 3
   },
   "file_extension": ".py",
   "mimetype": "text/x-python",
   "name": "python",
   "nbconvert_exporter": "python",
   "pygments_lexer": "ipython3",
   "version": "3.9.7"
  }
 },
 "nbformat": 4,
 "nbformat_minor": 2
}
