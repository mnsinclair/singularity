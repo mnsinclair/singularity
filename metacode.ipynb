{
 "cells": [
  {
   "cell_type": "code",
   "execution_count": 1,
   "metadata": {},
   "outputs": [],
   "source": [
    "from room import Room\n",
    "from person import Person\n",
    "from action import Action\n",
    "import metacode_helpers"
   ]
  },
  {
   "cell_type": "code",
   "execution_count": 2,
   "metadata": {},
   "outputs": [],
   "source": [
    "import pandas as pd\n",
    "import numpy as np"
   ]
  },
  {
   "cell_type": "code",
   "execution_count": 24,
   "metadata": {},
   "outputs": [],
   "source": [
    "# initialise all actions\n",
    "ALL_POSSIBLE_ACTIONS = metacode_helpers.initialise_all_actions()\n",
    "ALL_CONVERSATION_ACTIONS = [action for action in ALL_POSSIBLE_ACTIONS if action.get_action_type() == \"conversation\"]\n",
    "ALL_ROOM_ACTIONS = [action for action in ALL_POSSIBLE_ACTIONS if action.get_action_type() == \"room\"]"
   ]
  },
  {
   "cell_type": "code",
   "execution_count": 12,
   "metadata": {},
   "outputs": [],
   "source": [
    "# Create some rooms\n",
    "HALL = Room(\"Hall\")\n",
    "KITCHEN = Room(\"Kitchen\")\n",
    "LOUNGE = Room(\"Lounge\")\n",
    "\n",
    "# Assign the Hall to be the entry to the house\n",
    "HOUSE_ENTRY_ROOM = HALL \n",
    "\n",
    "# Add adjacencies to the rooms (HALL is adjacent to KITCHEN and LOUNGE)\n",
    "HALL.add_adjacent_room(KITCHEN)\n",
    "HALL.add_adjacent_room(LOUNGE)\n",
    "\n",
    "ROOMS = [HALL, KITCHEN, LOUNGE]"
   ]
  },
  {
   "cell_type": "code",
   "execution_count": 17,
   "metadata": {},
   "outputs": [],
   "source": [
    "from itertools import combinations\n",
    "\n",
    "def get_personality_vector(number, num_dims):\n",
    "    binary_string = bin(number)[2:]\n",
    "    padding = num_dims - len(binary_string)\n",
    "    binary_string = \"0\" * padding + binary_string\n",
    "    return np.array([int(char) for char in binary_string])\n",
    "\n",
    "names = metacode_helpers.get_names(num_names=32)\n",
    "np.random.seed(42)\n",
    "ALL_PEOPLE = []\n",
    "for personality_number in range(4):\n",
    "    personality_vector = get_personality_vector(personality_number, 5)\n",
    "    initial_emotional_state_vector = np.random.uniform(low = -1, high = 1, size = 3)\n",
    "    initial_location_state = np.random.choice(ROOMS)\n",
    "    new_person = Person(name = names[personality_number], location_state=initial_location_state, all_possible_actions=ALL_POSSIBLE_ACTIONS, personality_vector=personality_vector, emotional_state_vector=initial_emotional_state_vector, conversation_partner=None)\n",
    "    ALL_PEOPLE.append(new_person)\n"
   ]
  },
  {
   "cell_type": "code",
   "execution_count": 18,
   "metadata": {},
   "outputs": [
    {
     "data": {
      "text/plain": [
       "[Robin, Patrick, Ronnie, Jacquelyn]"
      ]
     },
     "execution_count": 18,
     "metadata": {},
     "output_type": "execute_result"
    }
   ],
   "source": [
    "ALL_PEOPLE"
   ]
  },
  {
   "cell_type": "code",
   "execution_count": null,
   "metadata": {},
   "outputs": [
    {
     "data": {
      "text/plain": [
       "[Bob leaves the Kitchen and enters the Hall,\n",
       " Sarah leaves the Hall and enters the Kitchen,\n",
       " James takes a non verbal action]"
      ]
     },
     "execution_count": 42,
     "metadata": {},
     "output_type": "execute_result"
    }
   ],
   "source": [
    "for person in ALL_PEOPLE:\n",
    "    log = dict()\n",
    "    log[\"person_before_action\"] = person.get_snapshot()\n",
    "    if person.conversation_partner is not None:\n",
    "        log[\"conversation_partner_before_action\"] = person.conversation_partner.get_snapshot()\n",
    "    \n",
    "    action = person.action_selection(available_conv_act=ALL_CONVERSATION_ACTIONS) if person.has_conversation_partner() else person.action_selection(available_room_act=ALL_ROOM_ACTIONS)\n",
    "    \n",
    "    person.act(action)\n",
    "    log[\"action\"] = action.get_snapshot()\n",
    "    log[\"person_after_action\"] = person.get_snapshot()\n",
    "    log[\"conversation_partner_after_action\"] = person.conversation_partner.get_snapshot()"
   ]
  }
 ],
 "metadata": {
  "interpreter": {
   "hash": "96f352cf01d3802b6acc114712a02e790c03380b75af7cacec27d6fea5a22790"
  },
  "kernelspec": {
   "display_name": "Python 3.9.7 ('CS773')",
   "language": "python",
   "name": "python3"
  },
  "language_info": {
   "codemirror_mode": {
    "name": "ipython",
    "version": 3
   },
   "file_extension": ".py",
   "mimetype": "text/x-python",
   "name": "python",
   "nbconvert_exporter": "python",
   "pygments_lexer": "ipython3",
   "version": "3.9.7"
  },
  "orig_nbformat": 4
 },
 "nbformat": 4,
 "nbformat_minor": 2
}
