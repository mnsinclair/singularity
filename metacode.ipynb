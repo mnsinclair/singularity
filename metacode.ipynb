{
 "cells": [
  {
   "cell_type": "code",
   "execution_count": 1,
   "metadata": {},
   "outputs": [],
   "source": [
    "from room import Room\n",
    "from person import Person\n",
    "from action import Action\n",
    "import metacode_helpers"
   ]
  },
  {
   "cell_type": "code",
   "execution_count": 2,
   "metadata": {},
   "outputs": [],
   "source": [
    "import pandas as pd\n",
    "import numpy as np"
   ]
  },
  {
   "cell_type": "code",
   "execution_count": 3,
   "metadata": {},
   "outputs": [],
   "source": [
    "# initialise all actions\n",
    "ALL_POSSIBLE_ACTIONS = metacode_helpers.initialise_all_actions()\n",
    "ALL_CONVERSATION_ACTIONS = [action for action in ALL_POSSIBLE_ACTIONS if action.get_action_type() == \"conversation\"]\n",
    "ALL_ROOM_ACTIONS = [action for action in ALL_POSSIBLE_ACTIONS if action.get_action_type() == \"room\"] "
   ]
  },
  {
   "cell_type": "code",
   "execution_count": 4,
   "metadata": {},
   "outputs": [],
   "source": [
    "# Create some rooms\n",
    "HALL = Room(\"Hall\")\n",
    "KITCHEN = Room(\"Kitchen\")\n",
    "LOUNGE = Room(\"Lounge\")\n",
    "\n",
    "# Add adjacencies to the rooms (HALL is adjacent to KITCHEN and LOUNGE)\n",
    "HALL.add_adjacent_room(KITCHEN)\n",
    "HALL.add_adjacent_room(LOUNGE)\n",
    "\n",
    "# Assign the Hall to be the entry to the house\n",
    "HOUSE_ENTRY_ROOM = HALL \n",
    "\n",
    "ROOMS = [HALL, KITCHEN, LOUNGE]"
   ]
  },
  {
   "cell_type": "code",
   "execution_count": 5,
   "metadata": {},
   "outputs": [],
   "source": [
    "names = metacode_helpers.get_names(num_names=32)\n",
    "np.random.seed(42)\n",
    "ALL_PEOPLE = []\n",
    "for personality_number in range(4):\n",
    "    personality_vector = np.random.uniform(low = -1, high = 1, size = 5)\n",
    "    initial_emotional_state_vector = np.random.uniform(low = -1, high = 1, size = 3)\n",
    "    initial_location_state = np.random.choice(ROOMS)\n",
    "    new_person = Person(name = names[personality_number], location_state=initial_location_state, all_possible_actions=ALL_POSSIBLE_ACTIONS, personality_vector=personality_vector, emotional_state_vector=initial_emotional_state_vector, conversation_partner=None)\n",
    "    ALL_PEOPLE.append(new_person)"
   ]
  },
  {
   "cell_type": "code",
   "execution_count": 6,
   "metadata": {},
   "outputs": [
    {
     "data": {
      "text/plain": [
       "[Robin, Patrick, Ronnie, Jacquelyn]"
      ]
     },
     "execution_count": 6,
     "metadata": {},
     "output_type": "execute_result"
    }
   ],
   "source": [
    "ALL_PEOPLE"
   ]
  },
  {
   "cell_type": "code",
   "execution_count": 7,
   "metadata": {},
   "outputs": [
    {
     "data": {
      "text/plain": [
       "array([shouts, shares, leaves_conversation, makes_smalltalk,\n",
       "       makes_deeptalk, gives_controversial_opinion, changes_the_topic,\n",
       "       shows_interest, shows_concern, laughs, jokes, gives_an_insult,\n",
       "       brags, yawns, supports, rants, stands_in_corner, leaves_room,\n",
       "       starts_conversation], dtype=object)"
      ]
     },
     "execution_count": 7,
     "metadata": {},
     "output_type": "execute_result"
    }
   ],
   "source": [
    "ALL_POSSIBLE_ACTIONS"
   ]
  },
  {
   "cell_type": "code",
   "execution_count": 11,
   "metadata": {},
   "outputs": [
    {
     "name": "stdout",
     "output_type": "stream",
     "text": [
      "0\n",
      "0\n",
      "('Robin', 'stands in corner')\n",
      "0\n",
      "1\n",
      "('Patrick', 'makes smalltalk')\n",
      "0\n",
      "2\n",
      "('Ronnie', 'shouts')\n",
      "0\n",
      "3\n",
      "('Jacquelyn', 'leaves room')\n",
      "1\n",
      "4\n",
      "('Robin', 'leaves room')\n",
      "1\n",
      "5\n",
      "('Patrick', 'shows concern')\n",
      "1\n",
      "6\n",
      "('Ronnie', 'laughs')\n"
     ]
    },
    {
     "ename": "ValueError",
     "evalue": "'a' cannot be empty unless no samples are taken",
     "output_type": "error",
     "traceback": [
      "\u001b[1;31m---------------------------------------------------------------------------\u001b[0m",
      "\u001b[1;31mValueError\u001b[0m                                Traceback (most recent call last)",
      "\u001b[1;32mc:\\Users\\mnsin\\OneDrive\\Desktop\\singularity\\metacode.ipynb Cell 8'\u001b[0m in \u001b[0;36m<cell line: 17>\u001b[1;34m()\u001b[0m\n\u001b[0;32m     <a href='vscode-notebook-cell:/c%3A/Users/mnsin/OneDrive/Desktop/singularity/metacode.ipynb#ch0000007?line=45'>46</a>\u001b[0m \u001b[39mif\u001b[39;00m action\u001b[39m.\u001b[39mget_name() \u001b[39m==\u001b[39m \u001b[39m\"\u001b[39m\u001b[39mstarts_conversation\u001b[39m\u001b[39m\"\u001b[39m:\n\u001b[0;32m     <a href='vscode-notebook-cell:/c%3A/Users/mnsin/OneDrive/Desktop/singularity/metacode.ipynb#ch0000007?line=46'>47</a>\u001b[0m     \u001b[39m# NOTE whether this is possible is handled by the action selection function\u001b[39;00m\n\u001b[0;32m     <a href='vscode-notebook-cell:/c%3A/Users/mnsin/OneDrive/Desktop/singularity/metacode.ipynb#ch0000007?line=47'>48</a>\u001b[0m     \u001b[39m# Find a person in the room who is free to chat\u001b[39;00m\n\u001b[0;32m     <a href='vscode-notebook-cell:/c%3A/Users/mnsin/OneDrive/Desktop/singularity/metacode.ipynb#ch0000007?line=48'>49</a>\u001b[0m     current_room \u001b[39m=\u001b[39m person\u001b[39m.\u001b[39mget_location_state()\n\u001b[1;32m---> <a href='vscode-notebook-cell:/c%3A/Users/mnsin/OneDrive/Desktop/singularity/metacode.ipynb#ch0000007?line=49'>50</a>\u001b[0m     partner \u001b[39m=\u001b[39m current_room\u001b[39m.\u001b[39;49mget_new_conversation_partner_for(person)\n\u001b[0;32m     <a href='vscode-notebook-cell:/c%3A/Users/mnsin/OneDrive/Desktop/singularity/metacode.ipynb#ch0000007?line=50'>51</a>\u001b[0m     person\u001b[39m.\u001b[39mset_conversation_partner(partner)\n\u001b[0;32m     <a href='vscode-notebook-cell:/c%3A/Users/mnsin/OneDrive/Desktop/singularity/metacode.ipynb#ch0000007?line=51'>52</a>\u001b[0m     partner\u001b[39m.\u001b[39mset_conversation_partner(person)\n",
      "File \u001b[1;32mc:\\Users\\mnsin\\OneDrive\\Desktop\\singularity\\room.py:40\u001b[0m, in \u001b[0;36mRoom.get_new_conversation_partner_for\u001b[1;34m(self, person)\u001b[0m\n\u001b[0;32m     <a href='file:///c%3A/Users/mnsin/OneDrive/Desktop/singularity/room.py?line=37'>38</a>\u001b[0m \u001b[39mdef\u001b[39;00m \u001b[39mget_new_conversation_partner_for\u001b[39m(\u001b[39mself\u001b[39m, person):\n\u001b[0;32m     <a href='file:///c%3A/Users/mnsin/OneDrive/Desktop/singularity/room.py?line=38'>39</a>\u001b[0m     \u001b[39m\"\"\"Randomly selects the first OTHER person in this room who is free to chat\"\"\"\u001b[39;00m\n\u001b[1;32m---> <a href='file:///c%3A/Users/mnsin/OneDrive/Desktop/singularity/room.py?line=39'>40</a>\u001b[0m     \u001b[39mreturn\u001b[39;00m np\u001b[39m.\u001b[39;49mrandom\u001b[39m.\u001b[39;49mchoice([partner \u001b[39mfor\u001b[39;49;00m partner \u001b[39min\u001b[39;49;00m \u001b[39mself\u001b[39;49m\u001b[39m.\u001b[39;49m__people \u001b[39mif\u001b[39;49;00m ((\u001b[39mnot\u001b[39;49;00m partner\u001b[39m.\u001b[39;49mhas_conversation_partner()) \u001b[39mand\u001b[39;49;00m (partner\u001b[39m.\u001b[39;49mget_name() \u001b[39m!=\u001b[39;49m person\u001b[39m.\u001b[39;49mget_name()))])\n",
      "File \u001b[1;32mmtrand.pyx:915\u001b[0m, in \u001b[0;36mnumpy.random.mtrand.RandomState.choice\u001b[1;34m()\u001b[0m\n",
      "\u001b[1;31mValueError\u001b[0m: 'a' cannot be empty unless no samples are taken"
     ]
    }
   ],
   "source": [
    "from collections import defaultdict\n",
    "\n",
    "action_log = defaultdict(list)\n",
    "person_before_action_log = defaultdict(list)\n",
    "person_after_action_log = defaultdict(list)\n",
    "partner_before_action_log = defaultdict(list)\n",
    "partner_after_action_log = defaultdict(list)\n",
    "room_log = defaultdict(list)\n",
    "\n",
    "def log_snapshot(log, snapshot, turn_number, round_number):\n",
    "    log[\"turn_number\"].append(turn_number)\n",
    "    log[\"round_number\"].append(round_number)\n",
    "    for key, val in snapshot.items():\n",
    "        log[key].append(val)\n",
    "\n",
    "turn_number = 0\n",
    "for round_number in range(10):\n",
    "    for person in ALL_PEOPLE:\n",
    "        partner = person.get_conversation_partner()\n",
    "        log_snapshot(person_before_action_log, person.get_snapshot(), turn_number, round_number)\n",
    "        if person.has_conversation_partner():\n",
    "            log_snapshot(partner_before_action_log, person.get_conversation_partner().get_snapshot(), turn_number, round_number)\n",
    "\n",
    "        # The person can start a conversation only if there's someone free to chat in their current room.\n",
    "        available_room_act = ALL_ROOM_ACTIONS if person.get_location_state().is_someone_free_to_chat() else [action for action in ALL_ROOM_ACTIONS if action.get_name() != \"starts_conversation\"]\n",
    "\n",
    "        # If in a conversation, the person can select any action, including leaving.\n",
    "        action = person.action_selection(available_conv_act=ALL_CONVERSATION_ACTIONS) if person.has_conversation_partner() else person.action_selection(available_room_act=available_room_act)\n",
    "        \n",
    "        # If in a conversation, update the person & conversation partner's emotional state according to the action\n",
    "        if person.has_conversation_partner():\n",
    "            # Change this person's emotional state \n",
    "            person.update_emotional_state_vector(action, isOwnAction = True)\n",
    "            # Change the partner's emotional state \n",
    "            partner.update_emotional_state_vector(action, isOwnAction = False)\n",
    "\n",
    "            if action.get_name() == \"leaves_conversation\":\n",
    "                # The conversation has ended, so both people now don't have conversation partners.\n",
    "                person.set_conversation_partner(None)\n",
    "                partner.set_conversation_partner(None)\n",
    "                \n",
    "        else: # Otherwise, deal with the room action\n",
    "            if action.get_name() == \"leaves_room\":\n",
    "                next_room = person.get_next_room()\n",
    "                person.move_to_room(next_room)          \n",
    "            if action.get_name() == \"starts_conversation\":\n",
    "                # NOTE whether this is possible is handled by the action selection function\n",
    "                # Find a person in the room who is free to chat\n",
    "                current_room = person.get_location_state()\n",
    "                partner = current_room.get_new_conversation_partner_for(person)\n",
    "                person.set_conversation_partner(partner)\n",
    "                partner.set_conversation_partner(person)\n",
    "        \n",
    "        log_snapshot(action_log, action.get_snapshot(), turn_number, round_number)    \n",
    "        log_snapshot(person_after_action_log, person.get_snapshot(), turn_number, round_number)\n",
    "        if partner:\n",
    "            log_snapshot(partner_after_action_log, partner.get_snapshot(), turn_number, round_number)\n",
    "\n",
    "        message = person.get_name(), ' '.join(action.get_name().split(\"_\"))\n",
    "        print(round_number)\n",
    "        print(turn_number)\n",
    "        print(message)\n",
    "        turn_number += 1"
   ]
  },
  {
   "cell_type": "code",
   "execution_count": 9,
   "metadata": {},
   "outputs": [
    {
     "data": {
      "text/html": [
       "<div>\n",
       "<style scoped>\n",
       "    .dataframe tbody tr th:only-of-type {\n",
       "        vertical-align: middle;\n",
       "    }\n",
       "\n",
       "    .dataframe tbody tr th {\n",
       "        vertical-align: top;\n",
       "    }\n",
       "\n",
       "    .dataframe thead th {\n",
       "        text-align: right;\n",
       "    }\n",
       "</style>\n",
       "<table border=\"1\" class=\"dataframe\">\n",
       "  <thead>\n",
       "    <tr style=\"text-align: right;\">\n",
       "      <th></th>\n",
       "      <th>turn_number</th>\n",
       "      <th>round_number</th>\n",
       "      <th>name</th>\n",
       "    </tr>\n",
       "  </thead>\n",
       "  <tbody>\n",
       "    <tr>\n",
       "      <th>0</th>\n",
       "      <td>0</td>\n",
       "      <td>0</td>\n",
       "      <td>leaves_room</td>\n",
       "    </tr>\n",
       "    <tr>\n",
       "      <th>1</th>\n",
       "      <td>1</td>\n",
       "      <td>0</td>\n",
       "      <td>stands_in_corner</td>\n",
       "    </tr>\n",
       "    <tr>\n",
       "      <th>2</th>\n",
       "      <td>2</td>\n",
       "      <td>0</td>\n",
       "      <td>leaves_room</td>\n",
       "    </tr>\n",
       "    <tr>\n",
       "      <th>3</th>\n",
       "      <td>3</td>\n",
       "      <td>0</td>\n",
       "      <td>leaves_room</td>\n",
       "    </tr>\n",
       "    <tr>\n",
       "      <th>4</th>\n",
       "      <td>4</td>\n",
       "      <td>1</td>\n",
       "      <td>stands_in_corner</td>\n",
       "    </tr>\n",
       "    <tr>\n",
       "      <th>5</th>\n",
       "      <td>5</td>\n",
       "      <td>1</td>\n",
       "      <td>leaves_room</td>\n",
       "    </tr>\n",
       "    <tr>\n",
       "      <th>6</th>\n",
       "      <td>6</td>\n",
       "      <td>1</td>\n",
       "      <td>stands_in_corner</td>\n",
       "    </tr>\n",
       "    <tr>\n",
       "      <th>7</th>\n",
       "      <td>7</td>\n",
       "      <td>1</td>\n",
       "      <td>leaves_room</td>\n",
       "    </tr>\n",
       "    <tr>\n",
       "      <th>8</th>\n",
       "      <td>8</td>\n",
       "      <td>2</td>\n",
       "      <td>starts_conversation</td>\n",
       "    </tr>\n",
       "    <tr>\n",
       "      <th>9</th>\n",
       "      <td>9</td>\n",
       "      <td>2</td>\n",
       "      <td>leaves_room</td>\n",
       "    </tr>\n",
       "    <tr>\n",
       "      <th>10</th>\n",
       "      <td>10</td>\n",
       "      <td>2</td>\n",
       "      <td>shows_concern</td>\n",
       "    </tr>\n",
       "    <tr>\n",
       "      <th>11</th>\n",
       "      <td>11</td>\n",
       "      <td>2</td>\n",
       "      <td>leaves_room</td>\n",
       "    </tr>\n",
       "    <tr>\n",
       "      <th>12</th>\n",
       "      <td>12</td>\n",
       "      <td>3</td>\n",
       "      <td>leaves_conversation</td>\n",
       "    </tr>\n",
       "    <tr>\n",
       "      <th>13</th>\n",
       "      <td>13</td>\n",
       "      <td>3</td>\n",
       "      <td>starts_conversation</td>\n",
       "    </tr>\n",
       "    <tr>\n",
       "      <th>14</th>\n",
       "      <td>14</td>\n",
       "      <td>3</td>\n",
       "      <td>shows_interest</td>\n",
       "    </tr>\n",
       "    <tr>\n",
       "      <th>15</th>\n",
       "      <td>15</td>\n",
       "      <td>3</td>\n",
       "      <td>leaves_room</td>\n",
       "    </tr>\n",
       "  </tbody>\n",
       "</table>\n",
       "</div>"
      ],
      "text/plain": [
       "    turn_number  round_number                 name\n",
       "0             0             0          leaves_room\n",
       "1             1             0     stands_in_corner\n",
       "2             2             0          leaves_room\n",
       "3             3             0          leaves_room\n",
       "4             4             1     stands_in_corner\n",
       "5             5             1          leaves_room\n",
       "6             6             1     stands_in_corner\n",
       "7             7             1          leaves_room\n",
       "8             8             2  starts_conversation\n",
       "9             9             2          leaves_room\n",
       "10           10             2        shows_concern\n",
       "11           11             2          leaves_room\n",
       "12           12             3  leaves_conversation\n",
       "13           13             3  starts_conversation\n",
       "14           14             3       shows_interest\n",
       "15           15             3          leaves_room"
      ]
     },
     "execution_count": 9,
     "metadata": {},
     "output_type": "execute_result"
    }
   ],
   "source": [
    "pd.DataFrame(action_log)"
   ]
  },
  {
   "cell_type": "code",
   "execution_count": null,
   "metadata": {},
   "outputs": [],
   "source": []
  }
 ],
 "metadata": {
  "interpreter": {
   "hash": "96f352cf01d3802b6acc114712a02e790c03380b75af7cacec27d6fea5a22790"
  },
  "kernelspec": {
   "display_name": "Python 3.9.7 ('CS773')",
   "language": "python",
   "name": "python3"
  },
  "language_info": {
   "codemirror_mode": {
    "name": "ipython",
    "version": 3
   },
   "file_extension": ".py",
   "mimetype": "text/x-python",
   "name": "python",
   "nbconvert_exporter": "python",
   "pygments_lexer": "ipython3",
   "version": "3.9.7"
  },
  "orig_nbformat": 4
 },
 "nbformat": 4,
 "nbformat_minor": 2
}
