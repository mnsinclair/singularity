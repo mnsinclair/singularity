{
 "cells": [
  {
   "cell_type": "code",
   "execution_count": 34,
   "metadata": {},
   "outputs": [],
   "source": [
    "from room import Room\n",
    "from person import Person"
   ]
  },
  {
   "cell_type": "code",
   "execution_count": 35,
   "metadata": {},
   "outputs": [],
   "source": [
    "# Create some rooms\n",
    "HALL = Room(\"Hall\", base_loudness=8, intended_occupancy=1)\n",
    "KITCHEN = Room(\"Kitchen\", base_loudness=7, intended_occupancy=5)\n",
    "LOUNGE = Room(\"Lounge\", base_loudness=8, intended_occupancy=10)\n",
    "\n",
    "# Assign the Hall to be the entry to the house\n",
    "HOUSE_ENTRY_ROOM = HALL \n",
    "\n",
    "# Add adjacencies to the rooms (HALL is adjacent to KITCHEN and LOUNGE)\n",
    "HALL.add_adjacent_room(KITCHEN)\n",
    "HALL.add_adjacent_room(LOUNGE)\n",
    "\n",
    "ROOMS = [HALL, KITCHEN, LOUNGE]"
   ]
  },
  {
   "cell_type": "code",
   "execution_count": 36,
   "metadata": {},
   "outputs": [],
   "source": [
    "PEOPLE = []"
   ]
  },
  {
   "cell_type": "code",
   "execution_count": 37,
   "metadata": {},
   "outputs": [],
   "source": [
    "BOB = Person(\"Bob\", location_state=HOUSE_ENTRY_ROOM)\n",
    "SARAH = Person(\"Sarah\", location_state=HOUSE_ENTRY_ROOM)\n",
    "JAMES = Person(\"James\", location_state=HOUSE_ENTRY_ROOM)\n",
    "PEOPLE.extend([BOB, SARAH, JAMES])"
   ]
  },
  {
   "cell_type": "code",
   "execution_count": 38,
   "metadata": {},
   "outputs": [
    {
     "data": {
      "text/plain": [
       "[Bob, Sarah, James]"
      ]
     },
     "execution_count": 38,
     "metadata": {},
     "output_type": "execute_result"
    }
   ],
   "source": [
    "PEOPLE"
   ]
  },
  {
   "cell_type": "code",
   "execution_count": 39,
   "metadata": {},
   "outputs": [
    {
     "data": {
      "text/plain": [
       "\n",
       "        ===========================\n",
       "        The Hall:\n",
       "        ===========================\n",
       "        People: ['James', 'Bob', 'Sarah']\n",
       "        Num people: 3\n",
       "        Base Loudness: 8\n",
       "        Current Loudness: 11\n",
       "        Intended Capacity: 1\n",
       "        Crowdedness (% max capacity): 300.0\n",
       "        Has food: False\n",
       "        Has drinks: False\n",
       "        Adjacent to: ['Kitchen', 'Lounge']\n",
       "        "
      ]
     },
     "execution_count": 39,
     "metadata": {},
     "output_type": "execute_result"
    }
   ],
   "source": [
    "HALL"
   ]
  },
  {
   "cell_type": "code",
   "execution_count": 40,
   "metadata": {},
   "outputs": [
    {
     "data": {
      "text/plain": [
       "\n",
       "        ===========================\n",
       "        The Kitchen:\n",
       "        ===========================\n",
       "        People: ['Bob']\n",
       "        Num people: 1\n",
       "        Base Loudness: 7\n",
       "        Current Loudness: 8\n",
       "        Intended Capacity: 5\n",
       "        Crowdedness (% max capacity): 20.0\n",
       "        Has food: False\n",
       "        Has drinks: False\n",
       "        Adjacent to: ['Hall']\n",
       "        "
      ]
     },
     "execution_count": 40,
     "metadata": {},
     "output_type": "execute_result"
    }
   ],
   "source": [
    "next_room = BOB.select_next_room()\n",
    "BOB.move_to(next_room)\n",
    "next_room"
   ]
  },
  {
   "cell_type": "code",
   "execution_count": 41,
   "metadata": {},
   "outputs": [
    {
     "name": "stdout",
     "output_type": "stream",
     "text": [
      "--- Turn 1 ---\n",
      "--- ROOM STATUS ---\n",
      "Hall: {James, Sarah}\n",
      "Kitchen: {Bob}\n",
      "Lounge: None\n",
      "--- ACTIONS ---\n",
      "Bob leaves the Kitchen and enters the Hall\n",
      "Sarah leaves the Hall and enters the Kitchen\n",
      "James takes a non verbal action\n",
      "--- Turn 2 ---\n",
      "--- ROOM STATUS ---\n",
      "Hall: {James, Bob}\n",
      "Kitchen: {Sarah}\n",
      "Lounge: None\n",
      "--- ACTIONS ---\n",
      "Bob leaves the Hall and enters the Kitchen\n",
      "Sarah takes a non verbal action\n",
      "James takes a verbal action\n",
      "--- Turn 3 ---\n",
      "--- ROOM STATUS ---\n",
      "Hall: {James}\n",
      "Kitchen: {Bob, Sarah}\n",
      "Lounge: None\n",
      "--- ACTIONS ---\n",
      "Bob leaves the Kitchen and enters the Hall\n",
      "Sarah leaves the Kitchen and enters the Hall\n",
      "James takes a verbal action\n"
     ]
    }
   ],
   "source": [
    "from collections import defaultdict\n",
    "num_turns = 3\n",
    "logs = defaultdict(list)\n",
    "for turn in range(1, num_turns + 1):\n",
    "    print(\"--- Turn {} ---\".format(turn))\n",
    "    print(\"--- ROOM STATUS ---\")\n",
    "    for room in ROOMS:\n",
    "        print(\"{}: {}\".format(room.get_name(), room.get_people() if room.get_people() else \"None\"))\n",
    "    print(\"--- ACTIONS ---\")\n",
    "    for person in PEOPLE:\n",
    "        action = person.take_action()\n",
    "        print(action)\n",
    "        logs[turn].append(action)"
   ]
  },
  {
   "cell_type": "code",
   "execution_count": 42,
   "metadata": {},
   "outputs": [
    {
     "data": {
      "text/plain": [
       "[Bob leaves the Kitchen and enters the Hall,\n",
       " Sarah leaves the Hall and enters the Kitchen,\n",
       " James takes a non verbal action]"
      ]
     },
     "execution_count": 42,
     "metadata": {},
     "output_type": "execute_result"
    }
   ],
   "source": [
    "# Can access any of the logs by turn number. Index starts from 1\n",
    "logs[1]"
   ]
  },
  {
   "cell_type": "code",
   "execution_count": null,
   "metadata": {},
   "outputs": [],
   "source": []
  }
 ],
 "metadata": {
  "interpreter": {
   "hash": "bcd1809c27f58d2c36e4e41ae6e81ddfe328d46db3ab409827835f8e324ac6e9"
  },
  "kernelspec": {
   "display_name": "Python 3.9.7 ('CS773')",
   "language": "python",
   "name": "python3"
  },
  "language_info": {
   "name": "python",
   "version": "3.9.7"
  },
  "orig_nbformat": 4
 },
 "nbformat": 4,
 "nbformat_minor": 2
}
